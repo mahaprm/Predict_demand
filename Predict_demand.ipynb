{
 "cells": [
  {
   "cell_type": "markdown",
   "metadata": {
    "colab_type": "text",
    "id": "x_BkOtqBIKQz"
   },
   "source": []
  },
  {
   "cell_type": "code",
   "execution_count": 2,
   "metadata": {
    "colab": {},
    "colab_type": "code",
    "id": "VzGFUCCVIKRL"
   },
   "outputs": [],
   "source": [
    "#Libraries\n",
    "import pandas as pd\n",
    "import matplotlib.pyplot as plt\n",
    "import seaborn as sb\n",
    "import numpy as np\n",
    "import math\n",
    "pd.set_option(\"display.max_columns\", 101)"
   ]
  },
  {
   "cell_type": "markdown",
   "metadata": {
    "colab_type": "text",
    "id": "TZ23KNY8IKRT"
   },
   "source": [
    "## Data Description"
   ]
  },
  {
   "cell_type": "markdown",
   "metadata": {
    "colab_type": "text",
    "id": "jWSkqquEIKRW"
   },
   "source": [
    "Column | Description\n",
    ":---|:---\n",
    "`id` | Record index\n",
    "`timestamp` | Datetime (YYYY:MM:DD HH AM/PM)\n",
    "`season` | Season (spring, summer, fall, winter)\n",
    "`holiday` | Whether day is a holiday or not (Yes or No)\n",
    "`workingday` | Whether day is a working day or not (Yes or No)\n",
    "`weather`| Weather condition (Clear or partly cloudy, Mist, Light snow or rain, heavy rain/ice pellets/ snow + fog \n",
    "`temp`| Average temperature recorded for the hour ( in degree Celsius)\n",
    "`temp_feel`| Average feeling temperature recorded for the hour ( in degree Celsius)\n",
    "`hum`| Average humidity recorded for the hour (in %)\n",
    "`windspeed`| Average wind speed recorded for the hour (in miles/hour)\n",
    "`demand`| Hourly count of bikes rented"
   ]
  },
  {
   "cell_type": "markdown",
   "metadata": {
    "colab_type": "text",
    "id": "BWQqx7cSIKRX"
   },
   "source": [
    "## Data Wrangling & Visualization"
   ]
  },
  {
   "cell_type": "code",
   "execution_count": 3,
   "metadata": {
    "colab": {},
    "colab_type": "code",
    "id": "SsjL7tf7IKRc"
   },
   "outputs": [],
   "source": [
    "# The dataset is already loaded below\n",
    "data = pd.read_csv(\"train.csv\")"
   ]
  },
  {
   "cell_type": "code",
   "execution_count": 4,
   "metadata": {
    "colab": {},
    "colab_type": "code",
    "id": "kzuHtZEkIKRh",
    "outputId": "9d14832c-2eda-48eb-df41-548113a94a73"
   },
   "outputs": [
    {
     "data": {
      "text/html": [
       "<div>\n",
       "<style scoped>\n",
       "    .dataframe tbody tr th:only-of-type {\n",
       "        vertical-align: middle;\n",
       "    }\n",
       "\n",
       "    .dataframe tbody tr th {\n",
       "        vertical-align: top;\n",
       "    }\n",
       "\n",
       "    .dataframe thead th {\n",
       "        text-align: right;\n",
       "    }\n",
       "</style>\n",
       "<table border=\"1\" class=\"dataframe\">\n",
       "  <thead>\n",
       "    <tr style=\"text-align: right;\">\n",
       "      <th></th>\n",
       "      <th>id</th>\n",
       "      <th>timestamp</th>\n",
       "      <th>season</th>\n",
       "      <th>holiday</th>\n",
       "      <th>workingday</th>\n",
       "      <th>weather</th>\n",
       "      <th>temp</th>\n",
       "      <th>temp_feel</th>\n",
       "      <th>humidity</th>\n",
       "      <th>windspeed</th>\n",
       "      <th>demand</th>\n",
       "    </tr>\n",
       "  </thead>\n",
       "  <tbody>\n",
       "    <tr>\n",
       "      <th>0</th>\n",
       "      <td>1</td>\n",
       "      <td>2017-01-01 00:00:00</td>\n",
       "      <td>spring</td>\n",
       "      <td>No</td>\n",
       "      <td>No</td>\n",
       "      <td>Clear or partly cloudy</td>\n",
       "      <td>9.84</td>\n",
       "      <td>14.395</td>\n",
       "      <td>81.0</td>\n",
       "      <td>0.0</td>\n",
       "      <td>2.772589</td>\n",
       "    </tr>\n",
       "    <tr>\n",
       "      <th>1</th>\n",
       "      <td>2</td>\n",
       "      <td>2017-01-01 01:00:00</td>\n",
       "      <td>spring</td>\n",
       "      <td>No</td>\n",
       "      <td>No</td>\n",
       "      <td>Clear or partly cloudy</td>\n",
       "      <td>9.02</td>\n",
       "      <td>13.635</td>\n",
       "      <td>80.0</td>\n",
       "      <td>0.0</td>\n",
       "      <td>3.688879</td>\n",
       "    </tr>\n",
       "    <tr>\n",
       "      <th>2</th>\n",
       "      <td>3</td>\n",
       "      <td>2017-01-01 02:00:00</td>\n",
       "      <td>spring</td>\n",
       "      <td>No</td>\n",
       "      <td>No</td>\n",
       "      <td>Clear or partly cloudy</td>\n",
       "      <td>9.02</td>\n",
       "      <td>13.635</td>\n",
       "      <td>80.0</td>\n",
       "      <td>0.0</td>\n",
       "      <td>3.465736</td>\n",
       "    </tr>\n",
       "    <tr>\n",
       "      <th>3</th>\n",
       "      <td>4</td>\n",
       "      <td>2017-01-01 03:00:00</td>\n",
       "      <td>spring</td>\n",
       "      <td>No</td>\n",
       "      <td>No</td>\n",
       "      <td>Clear or partly cloudy</td>\n",
       "      <td>9.84</td>\n",
       "      <td>14.395</td>\n",
       "      <td>75.0</td>\n",
       "      <td>0.0</td>\n",
       "      <td>2.564949</td>\n",
       "    </tr>\n",
       "    <tr>\n",
       "      <th>4</th>\n",
       "      <td>5</td>\n",
       "      <td>2017-01-01 04:00:00</td>\n",
       "      <td>spring</td>\n",
       "      <td>No</td>\n",
       "      <td>No</td>\n",
       "      <td>Clear or partly cloudy</td>\n",
       "      <td>9.84</td>\n",
       "      <td>14.395</td>\n",
       "      <td>75.0</td>\n",
       "      <td>0.0</td>\n",
       "      <td>0.000000</td>\n",
       "    </tr>\n",
       "  </tbody>\n",
       "</table>\n",
       "</div>"
      ],
      "text/plain": [
       "   id            timestamp  season holiday workingday                 weather  \\\n",
       "0   1  2017-01-01 00:00:00  spring      No         No  Clear or partly cloudy   \n",
       "1   2  2017-01-01 01:00:00  spring      No         No  Clear or partly cloudy   \n",
       "2   3  2017-01-01 02:00:00  spring      No         No  Clear or partly cloudy   \n",
       "3   4  2017-01-01 03:00:00  spring      No         No  Clear or partly cloudy   \n",
       "4   5  2017-01-01 04:00:00  spring      No         No  Clear or partly cloudy   \n",
       "\n",
       "   temp  temp_feel  humidity  windspeed    demand  \n",
       "0  9.84     14.395      81.0        0.0  2.772589  \n",
       "1  9.02     13.635      80.0        0.0  3.688879  \n",
       "2  9.02     13.635      80.0        0.0  3.465736  \n",
       "3  9.84     14.395      75.0        0.0  2.564949  \n",
       "4  9.84     14.395      75.0        0.0  0.000000  "
      ]
     },
     "execution_count": 4,
     "metadata": {},
     "output_type": "execute_result"
    }
   ],
   "source": [
    "data.head()"
   ]
  },
  {
   "cell_type": "code",
   "execution_count": 5,
   "metadata": {
    "colab": {},
    "colab_type": "code",
    "id": "0mhMZRlBIKRu",
    "outputId": "0a669059-5528-4ec0-d64b-8231f6aadf45"
   },
   "outputs": [
    {
     "data": {
      "text/plain": [
       "Index(['id', 'timestamp', 'season', 'holiday', 'workingday', 'weather', 'temp',\n",
       "       'temp_feel', 'humidity', 'windspeed', 'demand'],\n",
       "      dtype='object')"
      ]
     },
     "execution_count": 5,
     "metadata": {},
     "output_type": "execute_result"
    }
   ],
   "source": [
    "#Explore columns\n",
    "data.columns"
   ]
  },
  {
   "cell_type": "code",
   "execution_count": 6,
   "metadata": {
    "colab": {},
    "colab_type": "code",
    "id": "-SrTmyfJIKR1",
    "outputId": "12b270ca-8c3f-402b-d6c1-286c17e63fdd"
   },
   "outputs": [
    {
     "data": {
      "text/html": [
       "<div>\n",
       "<style scoped>\n",
       "    .dataframe tbody tr th:only-of-type {\n",
       "        vertical-align: middle;\n",
       "    }\n",
       "\n",
       "    .dataframe tbody tr th {\n",
       "        vertical-align: top;\n",
       "    }\n",
       "\n",
       "    .dataframe thead th {\n",
       "        text-align: right;\n",
       "    }\n",
       "</style>\n",
       "<table border=\"1\" class=\"dataframe\">\n",
       "  <thead>\n",
       "    <tr style=\"text-align: right;\">\n",
       "      <th></th>\n",
       "      <th>id</th>\n",
       "      <th>temp</th>\n",
       "      <th>temp_feel</th>\n",
       "      <th>humidity</th>\n",
       "      <th>windspeed</th>\n",
       "      <th>demand</th>\n",
       "    </tr>\n",
       "  </thead>\n",
       "  <tbody>\n",
       "    <tr>\n",
       "      <th>count</th>\n",
       "      <td>8708.000000</td>\n",
       "      <td>7506.000000</td>\n",
       "      <td>8606.000000</td>\n",
       "      <td>8669.00000</td>\n",
       "      <td>8508.000000</td>\n",
       "      <td>8708.000000</td>\n",
       "    </tr>\n",
       "    <tr>\n",
       "      <th>mean</th>\n",
       "      <td>4354.500000</td>\n",
       "      <td>20.089454</td>\n",
       "      <td>23.531261</td>\n",
       "      <td>60.99354</td>\n",
       "      <td>13.048589</td>\n",
       "      <td>4.452725</td>\n",
       "    </tr>\n",
       "    <tr>\n",
       "      <th>std</th>\n",
       "      <td>2513.927405</td>\n",
       "      <td>8.023304</td>\n",
       "      <td>8.737997</td>\n",
       "      <td>19.67989</td>\n",
       "      <td>8.311058</td>\n",
       "      <td>1.493963</td>\n",
       "    </tr>\n",
       "    <tr>\n",
       "      <th>min</th>\n",
       "      <td>1.000000</td>\n",
       "      <td>0.820000</td>\n",
       "      <td>0.760000</td>\n",
       "      <td>0.00000</td>\n",
       "      <td>0.000000</td>\n",
       "      <td>0.000000</td>\n",
       "    </tr>\n",
       "    <tr>\n",
       "      <th>25%</th>\n",
       "      <td>2177.750000</td>\n",
       "      <td>13.940000</td>\n",
       "      <td>15.910000</td>\n",
       "      <td>46.00000</td>\n",
       "      <td>7.001500</td>\n",
       "      <td>3.637586</td>\n",
       "    </tr>\n",
       "    <tr>\n",
       "      <th>50%</th>\n",
       "      <td>4354.500000</td>\n",
       "      <td>20.500000</td>\n",
       "      <td>24.240000</td>\n",
       "      <td>60.00000</td>\n",
       "      <td>12.998000</td>\n",
       "      <td>4.867534</td>\n",
       "    </tr>\n",
       "    <tr>\n",
       "      <th>75%</th>\n",
       "      <td>6531.250000</td>\n",
       "      <td>26.240000</td>\n",
       "      <td>31.060000</td>\n",
       "      <td>77.00000</td>\n",
       "      <td>19.001200</td>\n",
       "      <td>5.556828</td>\n",
       "    </tr>\n",
       "    <tr>\n",
       "      <th>max</th>\n",
       "      <td>8708.000000</td>\n",
       "      <td>41.000000</td>\n",
       "      <td>45.455000</td>\n",
       "      <td>100.00000</td>\n",
       "      <td>56.996900</td>\n",
       "      <td>6.792344</td>\n",
       "    </tr>\n",
       "  </tbody>\n",
       "</table>\n",
       "</div>"
      ],
      "text/plain": [
       "                id         temp    temp_feel    humidity    windspeed  \\\n",
       "count  8708.000000  7506.000000  8606.000000  8669.00000  8508.000000   \n",
       "mean   4354.500000    20.089454    23.531261    60.99354    13.048589   \n",
       "std    2513.927405     8.023304     8.737997    19.67989     8.311058   \n",
       "min       1.000000     0.820000     0.760000     0.00000     0.000000   \n",
       "25%    2177.750000    13.940000    15.910000    46.00000     7.001500   \n",
       "50%    4354.500000    20.500000    24.240000    60.00000    12.998000   \n",
       "75%    6531.250000    26.240000    31.060000    77.00000    19.001200   \n",
       "max    8708.000000    41.000000    45.455000   100.00000    56.996900   \n",
       "\n",
       "            demand  \n",
       "count  8708.000000  \n",
       "mean      4.452725  \n",
       "std       1.493963  \n",
       "min       0.000000  \n",
       "25%       3.637586  \n",
       "50%       4.867534  \n",
       "75%       5.556828  \n",
       "max       6.792344  "
      ]
     },
     "execution_count": 6,
     "metadata": {},
     "output_type": "execute_result"
    }
   ],
   "source": [
    "#Description\n",
    "data.describe()"
   ]
  },
  {
   "cell_type": "code",
   "execution_count": 7,
   "metadata": {
    "colab": {},
    "colab_type": "code",
    "id": "Vel-7S7gIKR9"
   },
   "outputs": [
    {
     "data": {
      "text/plain": [
       "(8708, 11)"
      ]
     },
     "execution_count": 7,
     "metadata": {},
     "output_type": "execute_result"
    }
   ],
   "source": [
    "#Showing shape of the dataframe\n",
    "data.shape"
   ]
  },
  {
   "cell_type": "code",
   "execution_count": 8,
   "metadata": {
    "colab": {},
    "colab_type": "code",
    "id": "fp1nvdh-IKSE"
   },
   "outputs": [
    {
     "data": {
      "text/plain": [
       "id              int64\n",
       "timestamp      object\n",
       "season         object\n",
       "holiday        object\n",
       "workingday     object\n",
       "weather        object\n",
       "temp          float64\n",
       "temp_feel     float64\n",
       "humidity      float64\n",
       "windspeed     float64\n",
       "demand        float64\n",
       "dtype: object"
      ]
     },
     "execution_count": 8,
     "metadata": {},
     "output_type": "execute_result"
    }
   ],
   "source": [
    "#Showing data types of dataframe\n",
    "data.dtypes"
   ]
  },
  {
   "cell_type": "code",
   "execution_count": 9,
   "metadata": {
    "colab": {},
    "colab_type": "code",
    "id": "px5KNTQ7IKSK"
   },
   "outputs": [
    {
     "data": {
      "text/plain": [
       "id               0\n",
       "timestamp        0\n",
       "season           0\n",
       "holiday          0\n",
       "workingday       0\n",
       "weather          0\n",
       "temp          1202\n",
       "temp_feel      102\n",
       "humidity        39\n",
       "windspeed      200\n",
       "demand           0\n",
       "dtype: int64"
      ]
     },
     "execution_count": 9,
     "metadata": {},
     "output_type": "execute_result"
    }
   ],
   "source": [
    "#Checking null are available in dataframe columns\n",
    "data.isnull().sum()"
   ]
  },
  {
   "cell_type": "code",
   "execution_count": 10,
   "metadata": {
    "colab": {},
    "colab_type": "code",
    "id": "W9B6xKGpIKSQ"
   },
   "outputs": [],
   "source": [
    "#pre-processing the data.\n",
    "\n",
    "# preparing the map for replace wth integer data for text categories.\n",
    "\n",
    "data['season'].unique()\n",
    "seasion_dict = {'spring' : 1 , 'summer':2, 'fall' : 3, 'winter' : 4}\n",
    "data['holiday'].unique()\n",
    "yes_no_dict = {'No': 0, 'Yes':1}\n",
    "data['weather'].unique()\n",
    "weather_dict = {'Clear or partly cloudy': 1, 'Mist': 2, 'Light snow or rain': '3', 'heavy rain/ice pellets/snow + fog':4}"
   ]
  },
  {
   "cell_type": "code",
   "execution_count": 11,
   "metadata": {},
   "outputs": [],
   "source": [
    "data['season'] = data['season'].apply(lambda s: seasion_dict.get(s) if s in seasion_dict else s)\n",
    "data['holiday'] = data['holiday'].apply(lambda s: yes_no_dict.get(s) if s in yes_no_dict else s)\n",
    "data['weather'] = data['weather'].apply(lambda s: weather_dict.get(s) if s in weather_dict else s)\n",
    "data['workingday'] = data['workingday'].apply(lambda s: yes_no_dict.get(s) if s in yes_no_dict else s)"
   ]
  },
  {
   "cell_type": "code",
   "execution_count": 12,
   "metadata": {},
   "outputs": [],
   "source": [
    "#Changing the datatype as category\n",
    "data['season'] = data.season.astype('category')\n",
    "data['holiday'] = data.holiday.astype('category')\n",
    "data['weather'] = data.weather.astype('category')\n",
    "data['workingday'] = data.workingday.astype('category')\n",
    "data['timestamp'] = pd.to_datetime(data['timestamp'])"
   ]
  },
  {
   "cell_type": "code",
   "execution_count": 13,
   "metadata": {},
   "outputs": [],
   "source": [
    "# filling missing values with mean value.\n",
    "\n",
    "data['temp'] = data['temp'].fillna(data['temp'].mean())\n",
    "data['temp_feel'] = data['temp_feel'].fillna(data['temp_feel'].mean())\n",
    "data['humidity'] = data['humidity'].fillna(data['humidity'].mean())\n",
    "data['windspeed'] = data['windspeed'].fillna(data['windspeed'].mean())"
   ]
  },
  {
   "cell_type": "markdown",
   "metadata": {
    "colab_type": "text",
    "id": "ymsdDaIPIKSX"
   },
   "source": [
    "## Visualization, Modeling, Machine Learning\n",
    "\n",
    "Build a model that can predict hourly demand and identify how different features influence the decision. Please explain the findings effectively to technical and non-technical audiences using comments and visualizations, if appropriate.\n",
    "- **Build an optimized model that effectively solves the business problem.**\n",
    "- **The model will be evaluated on the basis of mean absolute error.**\n",
    "- **Read the test.csv file and prepare features for testing.**"
   ]
  },
  {
   "cell_type": "code",
   "execution_count": 14,
   "metadata": {
    "colab": {},
    "colab_type": "code",
    "id": "Hsxh3SMgIKSY",
    "outputId": "d98d0f00-f33f-407b-df59-a9915bb03fa1"
   },
   "outputs": [],
   "source": [
    "#Loading Test data\n",
    "test_data=pd.read_csv('test.csv')"
   ]
  },
  {
   "cell_type": "code",
   "execution_count": 74,
   "metadata": {
    "colab": {},
    "colab_type": "code",
    "id": "73vBzp7lIKSf"
   },
   "outputs": [
    {
     "data": {
      "text/plain": [
       "(1792, 10)"
      ]
     },
     "execution_count": 74,
     "metadata": {},
     "output_type": "execute_result"
    }
   ],
   "source": [
    "test_data.isnull().sum()\n",
    "test_data.shape"
   ]
  },
  {
   "cell_type": "code",
   "execution_count": 16,
   "metadata": {},
   "outputs": [
    {
     "data": {
      "text/html": [
       "<div>\n",
       "<style scoped>\n",
       "    .dataframe tbody tr th:only-of-type {\n",
       "        vertical-align: middle;\n",
       "    }\n",
       "\n",
       "    .dataframe tbody tr th {\n",
       "        vertical-align: top;\n",
       "    }\n",
       "\n",
       "    .dataframe thead th {\n",
       "        text-align: right;\n",
       "    }\n",
       "</style>\n",
       "<table border=\"1\" class=\"dataframe\">\n",
       "  <thead>\n",
       "    <tr style=\"text-align: right;\">\n",
       "      <th></th>\n",
       "      <th>id</th>\n",
       "      <th>timestamp</th>\n",
       "      <th>season</th>\n",
       "      <th>holiday</th>\n",
       "      <th>workingday</th>\n",
       "      <th>weather</th>\n",
       "      <th>temp</th>\n",
       "      <th>temp_feel</th>\n",
       "      <th>humidity</th>\n",
       "      <th>windspeed</th>\n",
       "    </tr>\n",
       "  </thead>\n",
       "  <tbody>\n",
       "    <tr>\n",
       "      <th>0</th>\n",
       "      <td>8709</td>\n",
       "      <td>2018-08-05 05:00:00</td>\n",
       "      <td>fall</td>\n",
       "      <td>No</td>\n",
       "      <td>No</td>\n",
       "      <td>Clear or partly cloudy</td>\n",
       "      <td>29.52</td>\n",
       "      <td>34.850</td>\n",
       "      <td>74.0</td>\n",
       "      <td>16.9979</td>\n",
       "    </tr>\n",
       "    <tr>\n",
       "      <th>1</th>\n",
       "      <td>8710</td>\n",
       "      <td>2018-08-05 06:00:00</td>\n",
       "      <td>fall</td>\n",
       "      <td>No</td>\n",
       "      <td>No</td>\n",
       "      <td>Clear or partly cloudy</td>\n",
       "      <td>29.52</td>\n",
       "      <td>34.850</td>\n",
       "      <td>79.0</td>\n",
       "      <td>16.9979</td>\n",
       "    </tr>\n",
       "    <tr>\n",
       "      <th>2</th>\n",
       "      <td>8712</td>\n",
       "      <td>2018-08-05 08:00:00</td>\n",
       "      <td>fall</td>\n",
       "      <td>No</td>\n",
       "      <td>No</td>\n",
       "      <td>Clear or partly cloudy</td>\n",
       "      <td>31.16</td>\n",
       "      <td>36.365</td>\n",
       "      <td>66.0</td>\n",
       "      <td>22.0028</td>\n",
       "    </tr>\n",
       "    <tr>\n",
       "      <th>3</th>\n",
       "      <td>8713</td>\n",
       "      <td>2018-08-05 09:00:00</td>\n",
       "      <td>fall</td>\n",
       "      <td>No</td>\n",
       "      <td>No</td>\n",
       "      <td>Clear or partly cloudy</td>\n",
       "      <td>32.80</td>\n",
       "      <td>38.635</td>\n",
       "      <td>59.0</td>\n",
       "      <td>23.9994</td>\n",
       "    </tr>\n",
       "    <tr>\n",
       "      <th>4</th>\n",
       "      <td>8714</td>\n",
       "      <td>2018-08-05 10:00:00</td>\n",
       "      <td>fall</td>\n",
       "      <td>No</td>\n",
       "      <td>No</td>\n",
       "      <td>Clear or partly cloudy</td>\n",
       "      <td>32.80</td>\n",
       "      <td>38.635</td>\n",
       "      <td>59.0</td>\n",
       "      <td>27.9993</td>\n",
       "    </tr>\n",
       "  </tbody>\n",
       "</table>\n",
       "</div>"
      ],
      "text/plain": [
       "     id            timestamp season holiday workingday  \\\n",
       "0  8709  2018-08-05 05:00:00   fall      No         No   \n",
       "1  8710  2018-08-05 06:00:00   fall      No         No   \n",
       "2  8712  2018-08-05 08:00:00   fall      No         No   \n",
       "3  8713  2018-08-05 09:00:00   fall      No         No   \n",
       "4  8714  2018-08-05 10:00:00   fall      No         No   \n",
       "\n",
       "                  weather   temp  temp_feel  humidity  windspeed  \n",
       "0  Clear or partly cloudy  29.52     34.850      74.0    16.9979  \n",
       "1  Clear or partly cloudy  29.52     34.850      79.0    16.9979  \n",
       "2  Clear or partly cloudy  31.16     36.365      66.0    22.0028  \n",
       "3  Clear or partly cloudy  32.80     38.635      59.0    23.9994  \n",
       "4  Clear or partly cloudy  32.80     38.635      59.0    27.9993  "
      ]
     },
     "execution_count": 16,
     "metadata": {},
     "output_type": "execute_result"
    }
   ],
   "source": [
    "test_data.head()"
   ]
  },
  {
   "cell_type": "code",
   "execution_count": 17,
   "metadata": {
    "colab": {},
    "colab_type": "code",
    "id": "1XiIoLYLIKSj"
   },
   "outputs": [],
   "source": [
    "# converting to categorical data as per train dataset\n",
    "test_data['season'] = test_data['season'].apply(lambda s: seasion_dict.get(s) if s in seasion_dict else s)\n",
    "test_data['holiday'] = test_data['holiday'].apply(lambda s: yes_no_dict.get(s) if s in yes_no_dict else s)\n",
    "test_data['weather'] = test_data['weather'].apply(lambda s: weather_dict.get(s) if s in weather_dict else s)\n",
    "test_data['workingday'] = test_data['workingday'].apply(lambda s: yes_no_dict.get(s) if s in yes_no_dict else s)"
   ]
  },
  {
   "cell_type": "code",
   "execution_count": 19,
   "metadata": {
    "colab": {},
    "colab_type": "code",
    "id": "7tBCHjd3IKSp"
   },
   "outputs": [],
   "source": [
    "#Changing the datatype as category as train dataset\n",
    "test_data['season'] = test_data.season.astype('category')\n",
    "test_data['holiday'] = test_data.holiday.astype('category')\n",
    "test_data['weather'] = test_data.weather.astype('category')\n",
    "test_data['workingday'] = test_data.workingday.astype('category')\n",
    "test_data['timestamp'] = pd.to_datetime(test_data['timestamp'])"
   ]
  },
  {
   "cell_type": "markdown",
   "metadata": {
    "colab_type": "text",
    "id": "MK_rdXETIKS4"
   },
   "source": [
    "\n",
    "\n",
    "**Identify the most important features of the model for management.**\n",
    "\n",
    "> #### Task:\n",
    "- **Visualize the top 20 features and their feature importance.**\n"
   ]
  },
  {
   "cell_type": "code",
   "execution_count": 20,
   "metadata": {
    "colab": {},
    "colab_type": "code",
    "id": "HHFM3XPMIKS6"
   },
   "outputs": [
    {
     "data": {
      "text/html": [
       "<div>\n",
       "<style scoped>\n",
       "    .dataframe tbody tr th:only-of-type {\n",
       "        vertical-align: middle;\n",
       "    }\n",
       "\n",
       "    .dataframe tbody tr th {\n",
       "        vertical-align: top;\n",
       "    }\n",
       "\n",
       "    .dataframe thead th {\n",
       "        text-align: right;\n",
       "    }\n",
       "</style>\n",
       "<table border=\"1\" class=\"dataframe\">\n",
       "  <thead>\n",
       "    <tr style=\"text-align: right;\">\n",
       "      <th></th>\n",
       "      <th>temp</th>\n",
       "      <th>temp_feel</th>\n",
       "      <th>humidity</th>\n",
       "      <th>windspeed</th>\n",
       "      <th>demand</th>\n",
       "    </tr>\n",
       "  </thead>\n",
       "  <tbody>\n",
       "    <tr>\n",
       "      <th>temp</th>\n",
       "      <td>1.000000</td>\n",
       "      <td>0.917038</td>\n",
       "      <td>-0.065758</td>\n",
       "      <td>-0.020414</td>\n",
       "      <td>0.369064</td>\n",
       "    </tr>\n",
       "    <tr>\n",
       "      <th>temp_feel</th>\n",
       "      <td>0.917038</td>\n",
       "      <td>1.000000</td>\n",
       "      <td>-0.050598</td>\n",
       "      <td>-0.062211</td>\n",
       "      <td>0.390373</td>\n",
       "    </tr>\n",
       "    <tr>\n",
       "      <th>humidity</th>\n",
       "      <td>-0.065758</td>\n",
       "      <td>-0.050598</td>\n",
       "      <td>1.000000</td>\n",
       "      <td>-0.308592</td>\n",
       "      <td>-0.330792</td>\n",
       "    </tr>\n",
       "    <tr>\n",
       "      <th>windspeed</th>\n",
       "      <td>-0.020414</td>\n",
       "      <td>-0.062211</td>\n",
       "      <td>-0.308592</td>\n",
       "      <td>1.000000</td>\n",
       "      <td>0.118313</td>\n",
       "    </tr>\n",
       "    <tr>\n",
       "      <th>demand</th>\n",
       "      <td>0.369064</td>\n",
       "      <td>0.390373</td>\n",
       "      <td>-0.330792</td>\n",
       "      <td>0.118313</td>\n",
       "      <td>1.000000</td>\n",
       "    </tr>\n",
       "  </tbody>\n",
       "</table>\n",
       "</div>"
      ],
      "text/plain": [
       "               temp  temp_feel  humidity  windspeed    demand\n",
       "temp       1.000000   0.917038 -0.065758  -0.020414  0.369064\n",
       "temp_feel  0.917038   1.000000 -0.050598  -0.062211  0.390373\n",
       "humidity  -0.065758  -0.050598  1.000000  -0.308592 -0.330792\n",
       "windspeed -0.020414  -0.062211 -0.308592   1.000000  0.118313\n",
       "demand     0.369064   0.390373 -0.330792   0.118313  1.000000"
      ]
     },
     "execution_count": 20,
     "metadata": {},
     "output_type": "execute_result"
    }
   ],
   "source": [
    "corre_metrics = data[['temp', 'temp_feel', 'humidity', 'windspeed', 'demand', 'season', 'holiday' , 'workingday','weather']].corr()\n",
    "corre_metrics"
   ]
  },
  {
   "cell_type": "code",
   "execution_count": 21,
   "metadata": {
    "colab": {},
    "colab_type": "code",
    "id": "jabG4TJwIKS_"
   },
   "outputs": [
    {
     "data": {
      "image/png": "[encoded data removed]",
      "text/plain": [
       "<Figure size 432x288 with 2 Axes>"
      ]
     },
     "metadata": {
      "needs_background": "light"
     },
     "output_type": "display_data"
    }
   ],
   "source": [
    "sb.heatmap(corre_metrics, annot=True)\n",
    "plt.show()"
   ]
  },
  {
   "cell_type": "markdown",
   "metadata": {
    "colab_type": "text",
    "id": "UFogmgYZIKTE"
   },
   "source": [
    "> #### Task:\n",
    "- **Submit the predictions on the test dataset using the optimized model** <br/>\n",
    "    For each record in the test set (`test.csv`), predict the value of the `demand` variable. Submit a CSV file with a header row and one row per test entry.\n",
    "    \n",
    "The file (`submissions.csv`) should have exactly 2 columns:\n",
    "   - **id**\n",
    "   - **demand**"
   ]
  },
  {
   "cell_type": "code",
   "execution_count": 22,
   "metadata": {
    "colab": {},
    "colab_type": "code",
    "id": "7xgNg25MIKTG"
   },
   "outputs": [],
   "source": [
    "from sklearn import preprocessing, metrics, linear_model\n",
    "from sklearn.model_selection import cross_val_score, cross_val_predict, train_test_split"
   ]
  },
  {
   "cell_type": "markdown",
   "metadata": {},
   "source": [
    "Trying Linear Regression model"
   ]
  },
  {
   "cell_type": "code",
   "execution_count": 23,
   "metadata": {},
   "outputs": [],
   "source": [
    "#Split input variable and output variable.\n",
    "X = data[['temp', 'temp_feel', 'humidity', 'windspeed', 'season', 'holiday' , 'workingday','weather']]\n",
    "Y = data.iloc[:, -1]"
   ]
  },
  {
   "cell_type": "code",
   "execution_count": 24,
   "metadata": {
    "colab": {},
    "colab_type": "code",
    "id": "OaxN7BjwIKTL"
   },
   "outputs": [],
   "source": [
    "#Spliting train test\n",
    "x_train, x_test, y_train, y_test = train_test_split(X, Y, test_size=0.3, random_state=42)\n",
    "\n",
    "#Reseting the index for trian and test\n",
    "x_train.reset_index(inplace=True)\n",
    "y_train = y_train.reset_index()\n",
    "\n",
    "x_test.reset_index(inplace=True)\n",
    "y_test = y_test.reset_index()"
   ]
  },
  {
   "cell_type": "code",
   "execution_count": 25,
   "metadata": {},
   "outputs": [
    {
     "data": {
      "text/plain": [
       "LinearRegression(copy_X=True, fit_intercept=True, n_jobs=None, normalize=False)"
      ]
     },
     "execution_count": 25,
     "metadata": {},
     "output_type": "execute_result"
    }
   ],
   "source": [
    "# trying with linear regression\n",
    "\n",
    "lr_model = linear_model.LinearRegression()\n",
    "lr_model"
   ]
  },
  {
   "cell_type": "code",
   "execution_count": 26,
   "metadata": {},
   "outputs": [
    {
     "data": {
      "text/plain": [
       "LinearRegression(copy_X=True, fit_intercept=True, n_jobs=None, normalize=False)"
      ]
     },
     "execution_count": 26,
     "metadata": {},
     "output_type": "execute_result"
    }
   ],
   "source": [
    "lr_model.fit(x_train, y_train)"
   ]
  },
  {
   "cell_type": "code",
   "execution_count": 27,
   "metadata": {},
   "outputs": [
    {
     "name": "stdout",
     "output_type": "stream",
     "text": [
      "model accuracy 0.9999997328503002\n",
      "model coefficiants [[ 1.00000000e+00  2.12329471e-16 -4.93837348e-16  1.99548469e-17\n",
      "   2.64351075e-16  3.39445431e-16 -1.58868893e-15  3.14340927e-15\n",
      "  -8.80423952e-18]\n",
      " [ 6.70928739e-05  8.11089436e-04  5.56111186e-02 -2.34392702e-02\n",
      "   9.57549744e-03  7.22479613e-02 -9.84845258e-02 -1.22892729e-01\n",
      "   6.45100486e-02]]\n",
      "model coefficiants [-9.09494702e-13  3.97952586e+00]\n"
     ]
    },
    {
     "name": "stderr",
     "output_type": "stream",
     "text": [
      "/opt/conda/lib/python3.7/site-packages/sklearn/base.py:420: FutureWarning: The default value of multioutput (not exposed in score method) will change from 'variance_weighted' to 'uniform_average' in 0.23 to keep consistent with 'metrics.r2_score'. To specify the default value manually and avoid the warning, please either call 'metrics.r2_score' directly or make a custom scorer with 'metrics.make_scorer' (the built-in scorer 'r2' uses multioutput='uniform_average').\n",
      "  \"multioutput='uniform_average').\", FutureWarning)\n"
     ]
    }
   ],
   "source": [
    "#print accuracy for model and coefficants.\n",
    "lr = lr_model.score(x_train, y_train)\n",
    "print('model accuracy', lr)\n",
    "print('model coefficiants', lr_model.coef_)\n",
    "print('model coefficiants', lr_model.intercept_)"
   ]
  },
  {
   "cell_type": "code",
   "execution_count": 28,
   "metadata": {},
   "outputs": [
    {
     "data": {
      "text/plain": [
       "array([[6.88500000e+03, 4.84964404e+00],\n",
       "       [1.04900000e+03, 3.35628123e+00],\n",
       "       [8.47000000e+03, 4.84809741e+00],\n",
       "       ...,\n",
       "       [5.39000000e+03, 4.53135099e+00],\n",
       "       [8.60000000e+02, 5.18466205e+00],\n",
       "       [7.27000000e+03, 4.13541644e+00]])"
      ]
     },
     "execution_count": 28,
     "metadata": {},
     "output_type": "execute_result"
    }
   ],
   "source": [
    "predict = cross_val_predict(lr_model, x_train, y_train, cv=3)\n",
    "predict"
   ]
  },
  {
   "cell_type": "code",
   "execution_count": 29,
   "metadata": {},
   "outputs": [
    {
     "name": "stdout",
     "output_type": "stream",
     "text": [
      "R2 score 0.999999731051514\n"
     ]
    },
    {
     "name": "stderr",
     "output_type": "stream",
     "text": [
      "/opt/conda/lib/python3.7/site-packages/sklearn/base.py:420: FutureWarning: The default value of multioutput (not exposed in score method) will change from 'variance_weighted' to 'uniform_average' in 0.23 to keep consistent with 'metrics.r2_score'. To specify the default value manually and avoid the warning, please either call 'metrics.r2_score' directly or make a custom scorer with 'metrics.make_scorer' (the built-in scorer 'r2' uses multioutput='uniform_average').\n",
      "  \"multioutput='uniform_average').\", FutureWarning)\n",
      "/opt/conda/lib/python3.7/site-packages/sklearn/base.py:420: FutureWarning: The default value of multioutput (not exposed in score method) will change from 'variance_weighted' to 'uniform_average' in 0.23 to keep consistent with 'metrics.r2_score'. To specify the default value manually and avoid the warning, please either call 'metrics.r2_score' directly or make a custom scorer with 'metrics.make_scorer' (the built-in scorer 'r2' uses multioutput='uniform_average').\n",
      "  \"multioutput='uniform_average').\", FutureWarning)\n",
      "/opt/conda/lib/python3.7/site-packages/sklearn/base.py:420: FutureWarning: The default value of multioutput (not exposed in score method) will change from 'variance_weighted' to 'uniform_average' in 0.23 to keep consistent with 'metrics.r2_score'. To specify the default value manually and avoid the warning, please either call 'metrics.r2_score' directly or make a custom scorer with 'metrics.make_scorer' (the built-in scorer 'r2' uses multioutput='uniform_average').\n",
      "  \"multioutput='uniform_average').\", FutureWarning)\n"
     ]
    }
   ],
   "source": [
    "# Calculating r-sequard and mean sequared metrics to finalize the model.\n",
    "\n",
    "r2_score = cross_val_score(lr_model, x_train, y_train, cv=3)\n",
    "print('R2 score', np.average(r2_score))"
   ]
  },
  {
   "cell_type": "code",
   "execution_count": 52,
   "metadata": {},
   "outputs": [
    {
     "data": {
      "text/plain": [
       "array([[1.22600000e+03, 3.31052985e+00],\n",
       "       [2.89300000e+03, 5.53216433e+00],\n",
       "       [6.59600000e+03, 4.33112894e+00],\n",
       "       ...,\n",
       "       [7.64000000e+03, 5.68700199e+00],\n",
       "       [3.31600000e+03, 3.93925057e+00],\n",
       "       [6.28600000e+03, 3.74843542e+00]])"
      ]
     },
     "execution_count": 52,
     "metadata": {},
     "output_type": "execute_result"
    }
   ],
   "source": [
    "#model performance on test data.\n",
    "\n",
    "lr_pred = lr_model.predict(x_test)\n",
    "lr_pred"
   ]
  },
  {
   "cell_type": "code",
   "execution_count": 53,
   "metadata": {},
   "outputs": [
    {
     "name": "stdout",
     "output_type": "stream",
     "text": [
      "rmse 0.8869305288740424\n",
      "mae 0.4816260717550335\n"
     ]
    }
   ],
   "source": [
    "rmse = math.sqrt(metrics.mean_squared_error(y_test, lr_pred))\n",
    "mae = metrics.mean_absolute_error(y_test, lr_pred)\n",
    "\n",
    "print('rmse', rmse)\n",
    "print('mae', mae)"
   ]
  },
  {
   "cell_type": "markdown",
   "metadata": {},
   "source": [
    "Trying DecissionTree Regresser"
   ]
  },
  {
   "cell_type": "code",
   "execution_count": 35,
   "metadata": {},
   "outputs": [
    {
     "data": {
      "text/plain": [
       "DecisionTreeRegressor(criterion='mse', max_depth=None, max_features=None,\n",
       "                      max_leaf_nodes=10, min_impurity_decrease=0.0,\n",
       "                      min_impurity_split=None, min_samples_leaf=1,\n",
       "                      min_samples_split=2, min_weight_fraction_leaf=0.0,\n",
       "                      presort=False, random_state=None, splitter='best')"
      ]
     },
     "execution_count": 35,
     "metadata": {},
     "output_type": "execute_result"
    }
   ],
   "source": [
    "from sklearn.tree import DecisionTreeRegressor\n",
    "dtr = DecisionTreeRegressor(min_samples_split=2, max_leaf_nodes=10)\n",
    "dtr"
   ]
  },
  {
   "cell_type": "code",
   "execution_count": 36,
   "metadata": {},
   "outputs": [
    {
     "data": {
      "text/plain": [
       "DecisionTreeRegressor(criterion='mse', max_depth=None, max_features=None,\n",
       "                      max_leaf_nodes=10, min_impurity_decrease=0.0,\n",
       "                      min_impurity_split=None, min_samples_leaf=1,\n",
       "                      min_samples_split=2, min_weight_fraction_leaf=0.0,\n",
       "                      presort=False, random_state=None, splitter='best')"
      ]
     },
     "execution_count": 36,
     "metadata": {},
     "output_type": "execute_result"
    }
   ],
   "source": [
    "dtr.fit(x_train, y_train)"
   ]
  },
  {
   "cell_type": "code",
   "execution_count": 39,
   "metadata": {},
   "outputs": [
    {
     "name": "stderr",
     "output_type": "stream",
     "text": [
      "/opt/conda/lib/python3.7/site-packages/sklearn/base.py:420: FutureWarning: The default value of multioutput (not exposed in score method) will change from 'variance_weighted' to 'uniform_average' in 0.23 to keep consistent with 'metrics.r2_score'. To specify the default value manually and avoid the warning, please either call 'metrics.r2_score' directly or make a custom scorer with 'metrics.make_scorer' (the built-in scorer 'r2' uses multioutput='uniform_average').\n",
      "  \"multioutput='uniform_average').\", FutureWarning)\n"
     ]
    },
    {
     "data": {
      "text/plain": [
       "0.9874494780110376"
      ]
     },
     "execution_count": 39,
     "metadata": {},
     "output_type": "execute_result"
    }
   ],
   "source": [
    "#checking accuracy of the model.\n",
    "dtr_score = dtr.score(x_train, y_train)\n",
    "dtr_score"
   ]
  },
  {
   "cell_type": "code",
   "execution_count": 40,
   "metadata": {},
   "outputs": [
    {
     "data": {
      "text/plain": [
       "array([[7.13010397e+03, 4.83609535e+00],\n",
       "       [8.74466667e+02, 3.71305693e+00],\n",
       "       [8.17817304e+03, 5.13089727e+00],\n",
       "       ...,\n",
       "       [4.89871694e+03, 4.42054901e+00],\n",
       "       [5.41604167e+02, 3.58946341e+00],\n",
       "       [7.09733137e+03, 4.93165564e+00]])"
      ]
     },
     "execution_count": 40,
     "metadata": {},
     "output_type": "execute_result"
    }
   ],
   "source": [
    "predict = cross_val_predict(dtr, x_train, y_train, cv=3)\n",
    "predict"
   ]
  },
  {
   "cell_type": "code",
   "execution_count": 41,
   "metadata": {},
   "outputs": [
    {
     "name": "stdout",
     "output_type": "stream",
     "text": [
      "R2 score 0.9870688178714354\n"
     ]
    },
    {
     "name": "stderr",
     "output_type": "stream",
     "text": [
      "/opt/conda/lib/python3.7/site-packages/sklearn/base.py:420: FutureWarning: The default value of multioutput (not exposed in score method) will change from 'variance_weighted' to 'uniform_average' in 0.23 to keep consistent with 'metrics.r2_score'. To specify the default value manually and avoid the warning, please either call 'metrics.r2_score' directly or make a custom scorer with 'metrics.make_scorer' (the built-in scorer 'r2' uses multioutput='uniform_average').\n",
      "  \"multioutput='uniform_average').\", FutureWarning)\n",
      "/opt/conda/lib/python3.7/site-packages/sklearn/base.py:420: FutureWarning: The default value of multioutput (not exposed in score method) will change from 'variance_weighted' to 'uniform_average' in 0.23 to keep consistent with 'metrics.r2_score'. To specify the default value manually and avoid the warning, please either call 'metrics.r2_score' directly or make a custom scorer with 'metrics.make_scorer' (the built-in scorer 'r2' uses multioutput='uniform_average').\n",
      "  \"multioutput='uniform_average').\", FutureWarning)\n",
      "/opt/conda/lib/python3.7/site-packages/sklearn/base.py:420: FutureWarning: The default value of multioutput (not exposed in score method) will change from 'variance_weighted' to 'uniform_average' in 0.23 to keep consistent with 'metrics.r2_score'. To specify the default value manually and avoid the warning, please either call 'metrics.r2_score' directly or make a custom scorer with 'metrics.make_scorer' (the built-in scorer 'r2' uses multioutput='uniform_average').\n",
      "  \"multioutput='uniform_average').\", FutureWarning)\n"
     ]
    }
   ],
   "source": [
    "# Calculating r-sequard and mean sequared metrics to finalize the model.\n",
    "\n",
    "r2_score = cross_val_score(dtr, x_train, y_train, cv=3)\n",
    "print('R2 score', np.average(r2_score))"
   ]
  },
  {
   "cell_type": "code",
   "execution_count": 54,
   "metadata": {},
   "outputs": [
    {
     "data": {
      "text/plain": [
       "array([[1.67650678e+03, 4.23254124e+00],\n",
       "       [2.73829935e+03, 4.73769847e+00],\n",
       "       [6.82444675e+03, 4.85703473e+00],\n",
       "       ...,\n",
       "       [8.17513260e+03, 5.07414857e+00],\n",
       "       [3.81679052e+03, 4.58656724e+00],\n",
       "       [5.97781806e+03, 4.24714544e+00]])"
      ]
     },
     "execution_count": 54,
     "metadata": {},
     "output_type": "execute_result"
    }
   ],
   "source": [
    "#model performance on test data.\n",
    "\n",
    "dtr_pred = dtr.predict(x_test)\n",
    "dtr_pred"
   ]
  },
  {
   "cell_type": "code",
   "execution_count": 55,
   "metadata": {},
   "outputs": [
    {
     "name": "stdout",
     "output_type": "stream",
     "text": [
      "rmse 201.33101812161354\n",
      "mae 120.8397950989333\n"
     ]
    }
   ],
   "source": [
    "rmse = math.sqrt(metrics.mean_squared_error(y_test, dtr_pred))\n",
    "mae = metrics.mean_absolute_error(y_test, dtr_pred)\n",
    "\n",
    "print('rmse', rmse)\n",
    "print('mae', mae)"
   ]
  },
  {
   "cell_type": "markdown",
   "metadata": {},
   "source": [
    "Trying randomForest Regresser"
   ]
  },
  {
   "cell_type": "code",
   "execution_count": 44,
   "metadata": {},
   "outputs": [
    {
     "data": {
      "text/plain": [
       "RandomForestRegressor(bootstrap=True, criterion='mse', max_depth=None,\n",
       "                      max_features='auto', max_leaf_nodes=None,\n",
       "                      min_impurity_decrease=0.0, min_impurity_split=None,\n",
       "                      min_samples_leaf=1, min_samples_split=2,\n",
       "                      min_weight_fraction_leaf=0.0, n_estimators=200,\n",
       "                      n_jobs=None, oob_score=False, random_state=None,\n",
       "                      verbose=0, warm_start=False)"
      ]
     },
     "execution_count": 44,
     "metadata": {},
     "output_type": "execute_result"
    }
   ],
   "source": [
    "from sklearn.ensemble import RandomForestRegressor\n",
    "rfg = RandomForestRegressor(n_estimators=200)\n",
    "rfg"
   ]
  },
  {
   "cell_type": "code",
   "execution_count": 46,
   "metadata": {},
   "outputs": [
    {
     "name": "stderr",
     "output_type": "stream",
     "text": [
      "/opt/conda/lib/python3.7/site-packages/sklearn/base.py:420: FutureWarning: The default value of multioutput (not exposed in score method) will change from 'variance_weighted' to 'uniform_average' in 0.23 to keep consistent with 'metrics.r2_score'. To specify the default value manually and avoid the warning, please either call 'metrics.r2_score' directly or make a custom scorer with 'metrics.make_scorer' (the built-in scorer 'r2' uses multioutput='uniform_average').\n",
      "  \"multioutput='uniform_average').\", FutureWarning)\n"
     ]
    },
    {
     "data": {
      "text/plain": [
       "0.9999999602228118"
      ]
     },
     "execution_count": 46,
     "metadata": {},
     "output_type": "execute_result"
    }
   ],
   "source": [
    "rfg.fit(x_train, y_train)\n",
    "rfg_score = rfg.score(x_train, y_train)\n",
    "rfg_score"
   ]
  },
  {
   "cell_type": "code",
   "execution_count": 48,
   "metadata": {},
   "outputs": [
    {
     "name": "stdout",
     "output_type": "stream",
     "text": [
      "R2 score 0.9870688178714354\n"
     ]
    },
    {
     "name": "stderr",
     "output_type": "stream",
     "text": [
      "/opt/conda/lib/python3.7/site-packages/sklearn/base.py:420: FutureWarning: The default value of multioutput (not exposed in score method) will change from 'variance_weighted' to 'uniform_average' in 0.23 to keep consistent with 'metrics.r2_score'. To specify the default value manually and avoid the warning, please either call 'metrics.r2_score' directly or make a custom scorer with 'metrics.make_scorer' (the built-in scorer 'r2' uses multioutput='uniform_average').\n",
      "  \"multioutput='uniform_average').\", FutureWarning)\n",
      "/opt/conda/lib/python3.7/site-packages/sklearn/base.py:420: FutureWarning: The default value of multioutput (not exposed in score method) will change from 'variance_weighted' to 'uniform_average' in 0.23 to keep consistent with 'metrics.r2_score'. To specify the default value manually and avoid the warning, please either call 'metrics.r2_score' directly or make a custom scorer with 'metrics.make_scorer' (the built-in scorer 'r2' uses multioutput='uniform_average').\n",
      "  \"multioutput='uniform_average').\", FutureWarning)\n",
      "/opt/conda/lib/python3.7/site-packages/sklearn/base.py:420: FutureWarning: The default value of multioutput (not exposed in score method) will change from 'variance_weighted' to 'uniform_average' in 0.23 to keep consistent with 'metrics.r2_score'. To specify the default value manually and avoid the warning, please either call 'metrics.r2_score' directly or make a custom scorer with 'metrics.make_scorer' (the built-in scorer 'r2' uses multioutput='uniform_average').\n",
      "  \"multioutput='uniform_average').\", FutureWarning)\n"
     ]
    }
   ],
   "source": [
    "predict = cross_val_predict(rfg, x_train, y_train, cv=3)\n",
    "predict\n",
    "r2_score = cross_val_score(dtr, x_train, y_train, cv=3)\n",
    "print('R2 score', np.average(r2_score))"
   ]
  },
  {
   "cell_type": "code",
   "execution_count": 57,
   "metadata": {},
   "outputs": [
    {
     "data": {
      "text/plain": [
       "array([[1.67650678e+03, 4.23254124e+00],\n",
       "       [2.73829935e+03, 4.73769847e+00],\n",
       "       [6.82444675e+03, 4.85703473e+00],\n",
       "       ...,\n",
       "       [8.17513260e+03, 5.07414857e+00],\n",
       "       [3.81679052e+03, 4.58656724e+00],\n",
       "       [5.97781806e+03, 4.24714544e+00]])"
      ]
     },
     "execution_count": 57,
     "metadata": {},
     "output_type": "execute_result"
    }
   ],
   "source": [
    "#model performance on test data.\n",
    "\n",
    "rfg_pred = dtr.predict(x_test)\n",
    "rfg_pred"
   ]
  },
  {
   "cell_type": "code",
   "execution_count": 58,
   "metadata": {},
   "outputs": [
    {
     "name": "stdout",
     "output_type": "stream",
     "text": [
      "rmse 201.33101812161354\n",
      "mae 120.8397950989333\n"
     ]
    }
   ],
   "source": [
    "rmse = math.sqrt(metrics.mean_squared_error(y_test, rfg_pred))\n",
    "mae = metrics.mean_absolute_error(y_test, rfg_pred)\n",
    "\n",
    "print('rmse', rmse)\n",
    "print('mae', mae)"
   ]
  },
  {
   "cell_type": "markdown",
   "metadata": {},
   "source": [
    "Compare with all the above three models linear regression having very less mean squared error and mae so finalizing the lr_regression model."
   ]
  },
  {
   "cell_type": "code",
   "execution_count": 78,
   "metadata": {},
   "outputs": [],
   "source": [
    "lr_model.fit(X, Y)\n",
    "test_df = test_data[['temp', 'temp_feel', 'humidity', 'windspeed', 'season', 'holiday' , 'workingday','weather']]\n",
    "lr_test_pred = lr_model.predict(test_df)\n",
    "test_data['demand'] = pd.Series(lr_test_pred)"
   ]
  },
  {
   "cell_type": "code",
   "execution_count": 79,
   "metadata": {},
   "outputs": [],
   "source": [
    "submission_df = test_data[['id', 'demand']]"
   ]
  },
  {
   "cell_type": "code",
   "execution_count": 81,
   "metadata": {
    "colab": {},
    "colab_type": "code",
    "id": "nBRVPrYbIKTQ"
   },
   "outputs": [],
   "source": [
    "#Submission\n",
    "submission_df.to_csv('submissions.csv',index=False)"
   ]
  },
  {
   "cell_type": "markdown",
   "metadata": {
    "colab_type": "text",
    "id": "H_pB8zTcIKTW"
   },
   "source": [
    "---"
   ]
  }
 ],
 "metadata": {
  "colab": {
   "collapsed_sections": [],
   "name": "Questions.ipynb",
   "provenance": []
  },
  "kernelspec": {
   "display_name": "Python 3",
   "language": "python",
   "name": "python3"
  },
  "language_info": {
   "codemirror_mode": {
    "name": "ipython",
    "version": 3
   },
   "file_extension": ".py",
   "mimetype": "text/x-python",
   "name": "python",
   "nbconvert_exporter": "python",
   "pygments_lexer": "ipython3",
   "version": "3.7.8"
  },
  "toc": {
   "base_numbering": 1,
   "nav_menu": {},
   "number_sections": true,
   "sideBar": true,
   "skip_h1_title": false,
   "title_cell": "Table of Contents",
   "title_sidebar": "Contents",
   "toc_cell": false,
   "toc_position": {},
   "toc_section_display": true,
   "toc_window_display": false
  },
  "pycharm": {
   "stem_cell": {
    "cell_type": "raw",
    "source": [],
    "metadata": {
     "collapsed": false
    }
   }
  }
 },
 "nbformat": 4,
 "nbformat_minor": 4
}