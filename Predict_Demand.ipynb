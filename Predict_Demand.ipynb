{
 "cells": [
  {
   "cell_type": "markdown",
   "metadata": {
    "colab_type": "text",
    "id": "x_BkOtqBIKQz"
   },
   "source": []
  },
  {
   "cell_type": "code",
   "execution_count": 2,
   "metadata": {
    "colab": {},
    "colab_type": "code",
    "id": "VzGFUCCVIKRL"
   },
   "outputs": [],
   "source": [
    "#Libraries\n",
    "import pandas as pd\n",
    "import pandas as pd\n",
    "import numpy as np\n",
    "import missingno as mno\n",
    "import seaborn as sns\n",
    "import matplotlib.pyplot as plt\n",
    "from sklearn import linear_model\n",
    "from sklearn.metrics import mean_absolute_error\n",
    "import warnings\n",
    "from sklearn.ensemble import RandomForestRegressor\n",
    "from sklearn.preprocessing import MinMaxScaler, StandardScaler\n",
    "from sklearn.linear_model import LinearRegression\n",
    "from sklearn.model_selection import train_test_split\n",
    "from xgboost import XGBRegressor\n",
    "warnings.filterwarnings('ignore')\n",
    "pd.set_option(\"display.max_columns\", 101)"
   ]
  },
  {
   "cell_type": "markdown",
   "metadata": {
    "colab_type": "text",
    "id": "TZ23KNY8IKRT"
   },
   "source": [
    "## Data Description"
   ]
  },
  {
   "cell_type": "markdown",
   "metadata": {
    "colab_type": "text",
    "id": "jWSkqquEIKRW"
   },
   "source": [
    "Column | Description\n",
    ":---|:---\n",
    "`id` | Record index\n",
    "`timestamp` | Datetime (YYYY:MM:DD HH AM/PM)\n",
    "`season` | Season (spring, summer, fall, winter)\n",
    "`holiday` | Whether day is a holiday or not (Yes or No)\n",
    "`workingday` | Whether day is a working day or not (Yes or No)\n",
    "`weather`| Weather condition (Clear or partly cloudy, Mist, Light snow or rain, heavy rain/ice pellets/ snow + fog \n",
    "`temp`| Average Temperature recorded for the hour ( in degree Celsius)\n",
    "`temp_feel`| Average Feeling Temperature recorded for the hour ( in degree Celsius)\n",
    "`humidity`| Average Humidity recorded for the hour (in %)\n",
    "`windspeed`| Average Wind speed recorded for the hour (in miles/hour)\n",
    "`demand`| Hourly count of bikes rented"
   ]
  },
  {
   "cell_type": "markdown",
   "metadata": {
    "colab_type": "text",
    "id": "BWQqx7cSIKRX"
   },
   "source": [
    "## Data Wrangling & Visualization"
   ]
  },
  {
   "cell_type": "code",
   "execution_count": 3,
   "metadata": {
    "colab": {},
    "colab_type": "code",
    "id": "SsjL7tf7IKRc"
   },
   "outputs": [],
   "source": [
    "# Dataset is already loaded below\n",
    "data = pd.read_csv(\"train.csv\")"
   ]
  },
  {
   "cell_type": "code",
   "execution_count": 4,
   "metadata": {},
   "outputs": [
    {
     "data": {
      "text/plain": [
       "(8708, 11)"
      ]
     },
     "execution_count": 4,
     "metadata": {},
     "output_type": "execute_result"
    }
   ],
   "source": [
    "# Dimensions of training data\n",
    "data.shape"
   ]
  },
  {
   "cell_type": "code",
   "execution_count": 5,
   "metadata": {
    "colab": {},
    "colab_type": "code",
    "id": "kzuHtZEkIKRh",
    "outputId": "9d14832c-2eda-48eb-df41-548113a94a73"
   },
   "outputs": [
    {
     "data": {
      "text/html": [
       "<div>\n",
       "<style scoped>\n",
       "    .dataframe tbody tr th:only-of-type {\n",
       "        vertical-align: middle;\n",
       "    }\n",
       "\n",
       "    .dataframe tbody tr th {\n",
       "        vertical-align: top;\n",
       "    }\n",
       "\n",
       "    .dataframe thead th {\n",
       "        text-align: right;\n",
       "    }\n",
       "</style>\n",
       "<table border=\"1\" class=\"dataframe\">\n",
       "  <thead>\n",
       "    <tr style=\"text-align: right;\">\n",
       "      <th></th>\n",
       "      <th>id</th>\n",
       "      <th>timestamp</th>\n",
       "      <th>season</th>\n",
       "      <th>holiday</th>\n",
       "      <th>workingday</th>\n",
       "      <th>weather</th>\n",
       "      <th>temp</th>\n",
       "      <th>temp_feel</th>\n",
       "      <th>humidity</th>\n",
       "      <th>windspeed</th>\n",
       "      <th>demand</th>\n",
       "    </tr>\n",
       "  </thead>\n",
       "  <tbody>\n",
       "    <tr>\n",
       "      <th>0</th>\n",
       "      <td>1</td>\n",
       "      <td>2017-01-01 00:00:00</td>\n",
       "      <td>spring</td>\n",
       "      <td>No</td>\n",
       "      <td>No</td>\n",
       "      <td>Clear or partly cloudy</td>\n",
       "      <td>9.84</td>\n",
       "      <td>14.395</td>\n",
       "      <td>81.0</td>\n",
       "      <td>0.0</td>\n",
       "      <td>2.772589</td>\n",
       "    </tr>\n",
       "    <tr>\n",
       "      <th>1</th>\n",
       "      <td>2</td>\n",
       "      <td>2017-01-01 01:00:00</td>\n",
       "      <td>spring</td>\n",
       "      <td>No</td>\n",
       "      <td>No</td>\n",
       "      <td>Clear or partly cloudy</td>\n",
       "      <td>9.02</td>\n",
       "      <td>13.635</td>\n",
       "      <td>80.0</td>\n",
       "      <td>0.0</td>\n",
       "      <td>3.688879</td>\n",
       "    </tr>\n",
       "    <tr>\n",
       "      <th>2</th>\n",
       "      <td>3</td>\n",
       "      <td>2017-01-01 02:00:00</td>\n",
       "      <td>spring</td>\n",
       "      <td>No</td>\n",
       "      <td>No</td>\n",
       "      <td>Clear or partly cloudy</td>\n",
       "      <td>9.02</td>\n",
       "      <td>13.635</td>\n",
       "      <td>80.0</td>\n",
       "      <td>0.0</td>\n",
       "      <td>3.465736</td>\n",
       "    </tr>\n",
       "    <tr>\n",
       "      <th>3</th>\n",
       "      <td>4</td>\n",
       "      <td>2017-01-01 03:00:00</td>\n",
       "      <td>spring</td>\n",
       "      <td>No</td>\n",
       "      <td>No</td>\n",
       "      <td>Clear or partly cloudy</td>\n",
       "      <td>9.84</td>\n",
       "      <td>14.395</td>\n",
       "      <td>75.0</td>\n",
       "      <td>0.0</td>\n",
       "      <td>2.564949</td>\n",
       "    </tr>\n",
       "    <tr>\n",
       "      <th>4</th>\n",
       "      <td>5</td>\n",
       "      <td>2017-01-01 04:00:00</td>\n",
       "      <td>spring</td>\n",
       "      <td>No</td>\n",
       "      <td>No</td>\n",
       "      <td>Clear or partly cloudy</td>\n",
       "      <td>9.84</td>\n",
       "      <td>14.395</td>\n",
       "      <td>75.0</td>\n",
       "      <td>0.0</td>\n",
       "      <td>0.000000</td>\n",
       "    </tr>\n",
       "  </tbody>\n",
       "</table>\n",
       "</div>"
      ],
      "text/plain": [
       "   id            timestamp  season holiday workingday                 weather  \\\n",
       "0   1  2017-01-01 00:00:00  spring      No         No  Clear or partly cloudy   \n",
       "1   2  2017-01-01 01:00:00  spring      No         No  Clear or partly cloudy   \n",
       "2   3  2017-01-01 02:00:00  spring      No         No  Clear or partly cloudy   \n",
       "3   4  2017-01-01 03:00:00  spring      No         No  Clear or partly cloudy   \n",
       "4   5  2017-01-01 04:00:00  spring      No         No  Clear or partly cloudy   \n",
       "\n",
       "   temp  temp_feel  humidity  windspeed    demand  \n",
       "0  9.84     14.395      81.0        0.0  2.772589  \n",
       "1  9.02     13.635      80.0        0.0  3.688879  \n",
       "2  9.02     13.635      80.0        0.0  3.465736  \n",
       "3  9.84     14.395      75.0        0.0  2.564949  \n",
       "4  9.84     14.395      75.0        0.0  0.000000  "
      ]
     },
     "execution_count": 5,
     "metadata": {},
     "output_type": "execute_result"
    }
   ],
   "source": [
    "data.head()"
   ]
  },
  {
   "cell_type": "code",
   "execution_count": 6,
   "metadata": {
    "colab": {},
    "colab_type": "code",
    "id": "0mhMZRlBIKRu",
    "outputId": "0a669059-5528-4ec0-d64b-8231f6aadf45"
   },
   "outputs": [
    {
     "data": {
      "text/plain": [
       "Index(['id', 'timestamp', 'season', 'holiday', 'workingday', 'weather', 'temp',\n",
       "       'temp_feel', 'humidity', 'windspeed', 'demand'],\n",
       "      dtype='object')"
      ]
     },
     "execution_count": 6,
     "metadata": {},
     "output_type": "execute_result"
    }
   ],
   "source": [
    "#Explore columns\n",
    "data.columns"
   ]
  },
  {
   "cell_type": "code",
   "execution_count": 7,
   "metadata": {
    "colab": {},
    "colab_type": "code",
    "id": "-SrTmyfJIKR1",
    "outputId": "12b270ca-8c3f-402b-d6c1-286c17e63fdd"
   },
   "outputs": [
    {
     "data": {
      "text/html": [
       "<div>\n",
       "<style scoped>\n",
       "    .dataframe tbody tr th:only-of-type {\n",
       "        vertical-align: middle;\n",
       "    }\n",
       "\n",
       "    .dataframe tbody tr th {\n",
       "        vertical-align: top;\n",
       "    }\n",
       "\n",
       "    .dataframe thead th {\n",
       "        text-align: right;\n",
       "    }\n",
       "</style>\n",
       "<table border=\"1\" class=\"dataframe\">\n",
       "  <thead>\n",
       "    <tr style=\"text-align: right;\">\n",
       "      <th></th>\n",
       "      <th>id</th>\n",
       "      <th>temp</th>\n",
       "      <th>temp_feel</th>\n",
       "      <th>humidity</th>\n",
       "      <th>windspeed</th>\n",
       "      <th>demand</th>\n",
       "    </tr>\n",
       "  </thead>\n",
       "  <tbody>\n",
       "    <tr>\n",
       "      <th>count</th>\n",
       "      <td>8708.000000</td>\n",
       "      <td>7506.000000</td>\n",
       "      <td>8606.000000</td>\n",
       "      <td>8669.00000</td>\n",
       "      <td>8508.000000</td>\n",
       "      <td>8708.000000</td>\n",
       "    </tr>\n",
       "    <tr>\n",
       "      <th>mean</th>\n",
       "      <td>4354.500000</td>\n",
       "      <td>20.089454</td>\n",
       "      <td>23.531261</td>\n",
       "      <td>60.99354</td>\n",
       "      <td>13.048589</td>\n",
       "      <td>4.452725</td>\n",
       "    </tr>\n",
       "    <tr>\n",
       "      <th>std</th>\n",
       "      <td>2513.927405</td>\n",
       "      <td>8.023304</td>\n",
       "      <td>8.737997</td>\n",
       "      <td>19.67989</td>\n",
       "      <td>8.311058</td>\n",
       "      <td>1.493963</td>\n",
       "    </tr>\n",
       "    <tr>\n",
       "      <th>min</th>\n",
       "      <td>1.000000</td>\n",
       "      <td>0.820000</td>\n",
       "      <td>0.760000</td>\n",
       "      <td>0.00000</td>\n",
       "      <td>0.000000</td>\n",
       "      <td>0.000000</td>\n",
       "    </tr>\n",
       "    <tr>\n",
       "      <th>25%</th>\n",
       "      <td>2177.750000</td>\n",
       "      <td>13.940000</td>\n",
       "      <td>15.910000</td>\n",
       "      <td>46.00000</td>\n",
       "      <td>7.001500</td>\n",
       "      <td>3.637586</td>\n",
       "    </tr>\n",
       "    <tr>\n",
       "      <th>50%</th>\n",
       "      <td>4354.500000</td>\n",
       "      <td>20.500000</td>\n",
       "      <td>24.240000</td>\n",
       "      <td>60.00000</td>\n",
       "      <td>12.998000</td>\n",
       "      <td>4.867534</td>\n",
       "    </tr>\n",
       "    <tr>\n",
       "      <th>75%</th>\n",
       "      <td>6531.250000</td>\n",
       "      <td>26.240000</td>\n",
       "      <td>31.060000</td>\n",
       "      <td>77.00000</td>\n",
       "      <td>19.001200</td>\n",
       "      <td>5.556828</td>\n",
       "    </tr>\n",
       "    <tr>\n",
       "      <th>max</th>\n",
       "      <td>8708.000000</td>\n",
       "      <td>41.000000</td>\n",
       "      <td>45.455000</td>\n",
       "      <td>100.00000</td>\n",
       "      <td>56.996900</td>\n",
       "      <td>6.792344</td>\n",
       "    </tr>\n",
       "  </tbody>\n",
       "</table>\n",
       "</div>"
      ],
      "text/plain": [
       "                id         temp    temp_feel    humidity    windspeed  \\\n",
       "count  8708.000000  7506.000000  8606.000000  8669.00000  8508.000000   \n",
       "mean   4354.500000    20.089454    23.531261    60.99354    13.048589   \n",
       "std    2513.927405     8.023304     8.737997    19.67989     8.311058   \n",
       "min       1.000000     0.820000     0.760000     0.00000     0.000000   \n",
       "25%    2177.750000    13.940000    15.910000    46.00000     7.001500   \n",
       "50%    4354.500000    20.500000    24.240000    60.00000    12.998000   \n",
       "75%    6531.250000    26.240000    31.060000    77.00000    19.001200   \n",
       "max    8708.000000    41.000000    45.455000   100.00000    56.996900   \n",
       "\n",
       "            demand  \n",
       "count  8708.000000  \n",
       "mean      4.452725  \n",
       "std       1.493963  \n",
       "min       0.000000  \n",
       "25%       3.637586  \n",
       "50%       4.867534  \n",
       "75%       5.556828  \n",
       "max       6.792344  "
      ]
     },
     "execution_count": 7,
     "metadata": {},
     "output_type": "execute_result"
    }
   ],
   "source": [
    "#Description\n",
    "data.describe()"
   ]
  },
  {
   "cell_type": "code",
   "execution_count": 8,
   "metadata": {
    "colab": {},
    "colab_type": "code",
    "id": "Vel-7S7gIKR9",
    "scrolled": false
   },
   "outputs": [
    {
     "data": {
      "text/plain": [
       "id              int64\n",
       "timestamp      object\n",
       "season         object\n",
       "holiday        object\n",
       "workingday     object\n",
       "weather        object\n",
       "temp          float64\n",
       "temp_feel     float64\n",
       "humidity      float64\n",
       "windspeed     float64\n",
       "demand        float64\n",
       "dtype: object"
      ]
     },
     "execution_count": 8,
     "metadata": {},
     "output_type": "execute_result"
    }
   ],
   "source": [
    "# Check Datatypes\n",
    "data.dtypes"
   ]
  },
  {
   "cell_type": "code",
   "execution_count": 9,
   "metadata": {
    "scrolled": true
   },
   "outputs": [
    {
     "name": "stdout",
     "output_type": "stream",
     "text": [
      "['season', 'holiday', 'workingday', 'weather']\n"
     ]
    }
   ],
   "source": [
    "# check columns with data type object\n",
    "col_list = [c for c in data.columns if data[c].dtype == 'object' and c != 'timestamp']\n",
    "print(col_list)"
   ]
  },
  {
   "cell_type": "code",
   "execution_count": 10,
   "metadata": {},
   "outputs": [],
   "source": [
    "# make a copy of training data for data preprocessing\n",
    "train_data = data.copy()"
   ]
  },
  {
   "cell_type": "code",
   "execution_count": 11,
   "metadata": {
    "scrolled": false
   },
   "outputs": [
    {
     "data": {
      "text/plain": [
       "(8708, 16)"
      ]
     },
     "execution_count": 11,
     "metadata": {},
     "output_type": "execute_result"
    }
   ],
   "source": [
    "# converting string timestamp to datetime and features\n",
    "train_data['timestamp'] = pd.to_datetime(data['timestamp'])\n",
    "train_data['day'] = train_data['timestamp'].dt.day\n",
    "train_data['hour'] = train_data['timestamp'].dt.hour\n",
    "train_data['weekday'] = train_data['timestamp'].dt.weekday\n",
    "train_data['month'] = train_data['timestamp'].dt.month\n",
    "train_data['year'] = train_data['timestamp'].dt.year\n",
    "train_data.shape"
   ]
  },
  {
   "cell_type": "code",
   "execution_count": 12,
   "metadata": {},
   "outputs": [],
   "source": [
    "# drop columns timestamp as we have generated hour, day, weekday, month and year features from it.\n",
    "train_data = train_data.drop(columns=['timestamp'])"
   ]
  },
  {
   "cell_type": "code",
   "execution_count": 13,
   "metadata": {},
   "outputs": [
    {
     "name": "stdout",
     "output_type": "stream",
     "text": [
      "Actual values: ['spring', 'summer', 'fall', 'winter']\n",
      "Encoded values: [1, 2, 3, 4]\n"
     ]
    }
   ],
   "source": [
    "# encode values in season column\n",
    "c = 'season'\n",
    "for i, item in enumerate(train_data[c].unique().tolist()):\n",
    "    train_data.loc[train_data[c] == item, c] = i+1\n",
    "\n",
    "print(\"Actual values:\", data[c].unique().tolist())\n",
    "print(\"Encoded values:\", train_data[c].unique().tolist())"
   ]
  },
  {
   "cell_type": "code",
   "execution_count": 14,
   "metadata": {},
   "outputs": [
    {
     "name": "stdout",
     "output_type": "stream",
     "text": [
      "Actual values: ['No', 'Yes']\n",
      "Encoded values: [0, 1]\n"
     ]
    }
   ],
   "source": [
    "# encode values in holiday column\n",
    "c = 'holiday'\n",
    "for i, item in enumerate(train_data[c].unique().tolist()):\n",
    "    train_data.loc[train_data[c] == item, c] = i\n",
    "\n",
    "print(\"Actual values:\", data[c].unique().tolist())\n",
    "print(\"Encoded values:\", train_data[c].unique().tolist())"
   ]
  },
  {
   "cell_type": "code",
   "execution_count": 15,
   "metadata": {},
   "outputs": [
    {
     "name": "stdout",
     "output_type": "stream",
     "text": [
      "Actual values: ['No', 'Yes']\n",
      "Encoded values: [0, 1]\n"
     ]
    }
   ],
   "source": [
    "# encode values in workingday column\n",
    "c = 'workingday'\n",
    "for i, item in enumerate(train_data[c].unique().tolist()):\n",
    "    train_data.loc[train_data[c] == item, c] = i\n",
    "\n",
    "print(\"Actual values:\", data[c].unique().tolist())\n",
    "print(\"Encoded values:\", train_data[c].unique().tolist())"
   ]
  },
  {
   "cell_type": "code",
   "execution_count": 16,
   "metadata": {
    "scrolled": true
   },
   "outputs": [
    {
     "name": "stdout",
     "output_type": "stream",
     "text": [
      "Actual values: ['Clear or partly cloudy', 'Mist', 'Light snow or rain', 'heavy rain/ice pellets/snow + fog']\n",
      "Encoded values: [1, 2, 3, 4]\n"
     ]
    }
   ],
   "source": [
    "# encode values in weather column\n",
    "c = 'weather'\n",
    "for i, item in enumerate(train_data[c].unique().tolist()):\n",
    "    train_data.loc[train_data[c] == item, c] = i+1\n",
    "\n",
    "print(\"Actual values:\", data[c].unique().tolist())\n",
    "print(\"Encoded values:\", train_data[c].unique().tolist())"
   ]
  },
  {
   "cell_type": "code",
   "execution_count": 17,
   "metadata": {},
   "outputs": [
    {
     "data": {
      "text/plain": [
       "id              int64\n",
       "season          int64\n",
       "holiday         int64\n",
       "workingday      int64\n",
       "weather         int64\n",
       "temp          float64\n",
       "temp_feel     float64\n",
       "humidity      float64\n",
       "windspeed     float64\n",
       "demand        float64\n",
       "day             int64\n",
       "hour            int64\n",
       "weekday         int64\n",
       "month           int64\n",
       "year            int64\n",
       "dtype: object"
      ]
     },
     "execution_count": 17,
     "metadata": {},
     "output_type": "execute_result"
    }
   ],
   "source": [
    "# Confirm data type changes\n",
    "train_data.dtypes"
   ]
  },
  {
   "cell_type": "code",
   "execution_count": 18,
   "metadata": {
    "colab": {},
    "colab_type": "code",
    "id": "fp1nvdh-IKSE"
   },
   "outputs": [
    {
     "data": {
      "text/plain": [
       "True"
      ]
     },
     "execution_count": 18,
     "metadata": {},
     "output_type": "execute_result"
    }
   ],
   "source": [
    "# Check for any null or missing values\n",
    "train_data.isnull().values.any()"
   ]
  },
  {
   "cell_type": "code",
   "execution_count": 19,
   "metadata": {
    "colab": {},
    "colab_type": "code",
    "id": "px5KNTQ7IKSK",
    "scrolled": false
   },
   "outputs": [
    {
     "data": {
      "text/plain": [
       "id               0\n",
       "season           0\n",
       "holiday          0\n",
       "workingday       0\n",
       "weather          0\n",
       "temp          1202\n",
       "temp_feel      102\n",
       "humidity        39\n",
       "windspeed      200\n",
       "demand           0\n",
       "day              0\n",
       "hour             0\n",
       "weekday          0\n",
       "month            0\n",
       "year             0\n",
       "dtype: int64"
      ]
     },
     "execution_count": 19,
     "metadata": {},
     "output_type": "execute_result"
    }
   ],
   "source": [
    "# Check missing values in each column of training data\n",
    "train_data.isnull().sum()"
   ]
  },
  {
   "cell_type": "code",
   "execution_count": 20,
   "metadata": {
    "colab": {},
    "colab_type": "code",
    "id": "W9B6xKGpIKSQ",
    "scrolled": false
   },
   "outputs": [
    {
     "data": {
      "text/plain": [
       "<matplotlib.axes._subplots.AxesSubplot at 0x1a20e48b38>"
      ]
     },
     "execution_count": 20,
     "metadata": {},
     "output_type": "execute_result"
    },
    {
     "data": {
      "image/png": "[encoded data removed]",
      "text/plain": [
       "<Figure size 1440x432 with 2 Axes>"
      ]
     },
     "metadata": {
      "needs_background": "light"
     },
     "output_type": "display_data"
    }
   ],
   "source": [
    "# Visualize missing values.\n",
    "mno.matrix(train_data, figsize = (20, 6))"
   ]
  },
  {
   "cell_type": "code",
   "execution_count": 21,
   "metadata": {},
   "outputs": [],
   "source": [
    "# impute missing values in temp_feel, humidity and windspeed with median value\n",
    "cols = ['temp_feel', 'humidity', 'windspeed']\n",
    "for c in cols:\n",
    "    train_data.loc[train_data[c].isnull(), c] = train_data.loc[train_data[c].notnull(), c].median()"
   ]
  },
  {
   "cell_type": "code",
   "execution_count": 22,
   "metadata": {},
   "outputs": [],
   "source": [
    "# impute values in temp columns with regression\n",
    "cols = [c for c in train_data.columns if c not in ['id', 'temp']]\n",
    "y = train_data.loc[train_data['temp'].notnull(), 'temp']\n",
    "X = train_data.loc[train_data['temp'].notnull(), cols]\n",
    "model = LinearRegression()\n",
    "model.fit(X, y)\n",
    "train_data.loc[train_data['temp'].isnull(), 'temp'] = model.predict(train_data.loc[train_data['temp'].isnull(), cols])"
   ]
  },
  {
   "cell_type": "code",
   "execution_count": 23,
   "metadata": {},
   "outputs": [
    {
     "data": {
      "text/plain": [
       "<matplotlib.axes._subplots.AxesSubplot at 0x1a20f6f5c0>"
      ]
     },
     "execution_count": 23,
     "metadata": {},
     "output_type": "execute_result"
    },
    {
     "data": {
      "image/png": "[encoded data removed]",
      "text/plain": [
       "<Figure size 1440x432 with 2 Axes>"
      ]
     },
     "metadata": {
      "needs_background": "light"
     },
     "output_type": "display_data"
    }
   ],
   "source": [
    "# Confirm that all missing values are gone.\n",
    "mno.matrix(train_data, figsize = (20, 6))"
   ]
  },
  {
   "cell_type": "code",
   "execution_count": 24,
   "metadata": {},
   "outputs": [
    {
     "name": "stdout",
     "output_type": "stream",
     "text": [
      "Impute 997 rows in windspeed column for which value = 0\n"
     ]
    }
   ],
   "source": [
    "# count total points for which windspeed = 0\n",
    "print(\"Impute\", train_data[train_data['windspeed'] == 0].shape[0], \"rows in windspeed column for which value = 0\")\n",
    "\n",
    "# use regression to impute these values\n",
    "data_wind_zero = train_data[train_data['windspeed'] == 0]\n",
    "data_wind_not_zero = train_data[train_data['windspeed'] != 0]\n",
    "rf_model = RandomForestRegressor()\n",
    "cols = [\"season\",\"weather\",\"humidity\", \"temp\", \"temp_feel\", \"month\",\"year\"]\n",
    "rf_model.fit(data_wind_not_zero[cols], data_wind_not_zero['windspeed'])\n",
    "vals = rf_model.predict(data_wind_zero[cols])\n",
    "data_wind_zero['windspeed'] = vals\n",
    "train_data = data_wind_not_zero.append(data_wind_zero)\n",
    "train_data.reset_index(inplace=True)\n",
    "train_data.drop('index',inplace=True,axis=1)"
   ]
  },
  {
   "cell_type": "code",
   "execution_count": 25,
   "metadata": {},
   "outputs": [
    {
     "data": {
      "text/html": [
       "<div>\n",
       "<style scoped>\n",
       "    .dataframe tbody tr th:only-of-type {\n",
       "        vertical-align: middle;\n",
       "    }\n",
       "\n",
       "    .dataframe tbody tr th {\n",
       "        vertical-align: top;\n",
       "    }\n",
       "\n",
       "    .dataframe thead th {\n",
       "        text-align: right;\n",
       "    }\n",
       "</style>\n",
       "<table border=\"1\" class=\"dataframe\">\n",
       "  <thead>\n",
       "    <tr style=\"text-align: right;\">\n",
       "      <th></th>\n",
       "      <th>id</th>\n",
       "      <th>season</th>\n",
       "      <th>holiday</th>\n",
       "      <th>workingday</th>\n",
       "      <th>weather</th>\n",
       "      <th>temp</th>\n",
       "      <th>temp_feel</th>\n",
       "      <th>humidity</th>\n",
       "      <th>windspeed</th>\n",
       "      <th>demand</th>\n",
       "      <th>day</th>\n",
       "      <th>hour</th>\n",
       "      <th>weekday</th>\n",
       "      <th>month</th>\n",
       "      <th>year</th>\n",
       "    </tr>\n",
       "  </thead>\n",
       "  <tbody>\n",
       "    <tr>\n",
       "      <th>0</th>\n",
       "      <td>6</td>\n",
       "      <td>1</td>\n",
       "      <td>0</td>\n",
       "      <td>0</td>\n",
       "      <td>2</td>\n",
       "      <td>9.84</td>\n",
       "      <td>12.880</td>\n",
       "      <td>75.0</td>\n",
       "      <td>6.0032</td>\n",
       "      <td>0.000000</td>\n",
       "      <td>1</td>\n",
       "      <td>5</td>\n",
       "      <td>6</td>\n",
       "      <td>1</td>\n",
       "      <td>2017</td>\n",
       "    </tr>\n",
       "    <tr>\n",
       "      <th>1</th>\n",
       "      <td>11</td>\n",
       "      <td>1</td>\n",
       "      <td>0</td>\n",
       "      <td>0</td>\n",
       "      <td>1</td>\n",
       "      <td>15.58</td>\n",
       "      <td>19.695</td>\n",
       "      <td>76.0</td>\n",
       "      <td>16.9979</td>\n",
       "      <td>3.583519</td>\n",
       "      <td>1</td>\n",
       "      <td>10</td>\n",
       "      <td>6</td>\n",
       "      <td>1</td>\n",
       "      <td>2017</td>\n",
       "    </tr>\n",
       "    <tr>\n",
       "      <th>2</th>\n",
       "      <td>12</td>\n",
       "      <td>1</td>\n",
       "      <td>0</td>\n",
       "      <td>0</td>\n",
       "      <td>1</td>\n",
       "      <td>14.76</td>\n",
       "      <td>16.665</td>\n",
       "      <td>81.0</td>\n",
       "      <td>19.0012</td>\n",
       "      <td>4.025352</td>\n",
       "      <td>1</td>\n",
       "      <td>11</td>\n",
       "      <td>6</td>\n",
       "      <td>1</td>\n",
       "      <td>2017</td>\n",
       "    </tr>\n",
       "    <tr>\n",
       "      <th>3</th>\n",
       "      <td>13</td>\n",
       "      <td>1</td>\n",
       "      <td>0</td>\n",
       "      <td>0</td>\n",
       "      <td>1</td>\n",
       "      <td>17.22</td>\n",
       "      <td>21.210</td>\n",
       "      <td>77.0</td>\n",
       "      <td>19.0012</td>\n",
       "      <td>4.430817</td>\n",
       "      <td>1</td>\n",
       "      <td>12</td>\n",
       "      <td>6</td>\n",
       "      <td>1</td>\n",
       "      <td>2017</td>\n",
       "    </tr>\n",
       "    <tr>\n",
       "      <th>4</th>\n",
       "      <td>14</td>\n",
       "      <td>1</td>\n",
       "      <td>0</td>\n",
       "      <td>0</td>\n",
       "      <td>2</td>\n",
       "      <td>18.86</td>\n",
       "      <td>22.725</td>\n",
       "      <td>72.0</td>\n",
       "      <td>19.9995</td>\n",
       "      <td>4.543295</td>\n",
       "      <td>1</td>\n",
       "      <td>13</td>\n",
       "      <td>6</td>\n",
       "      <td>1</td>\n",
       "      <td>2017</td>\n",
       "    </tr>\n",
       "  </tbody>\n",
       "</table>\n",
       "</div>"
      ],
      "text/plain": [
       "   id  season  holiday  workingday  weather   temp  temp_feel  humidity  \\\n",
       "0   6       1        0           0        2   9.84     12.880      75.0   \n",
       "1  11       1        0           0        1  15.58     19.695      76.0   \n",
       "2  12       1        0           0        1  14.76     16.665      81.0   \n",
       "3  13       1        0           0        1  17.22     21.210      77.0   \n",
       "4  14       1        0           0        2  18.86     22.725      72.0   \n",
       "\n",
       "   windspeed    demand  day  hour  weekday  month  year  \n",
       "0     6.0032  0.000000    1     5        6      1  2017  \n",
       "1    16.9979  3.583519    1    10        6      1  2017  \n",
       "2    19.0012  4.025352    1    11        6      1  2017  \n",
       "3    19.0012  4.430817    1    12        6      1  2017  \n",
       "4    19.9995  4.543295    1    13        6      1  2017  "
      ]
     },
     "execution_count": 25,
     "metadata": {},
     "output_type": "execute_result"
    }
   ],
   "source": [
    "# print a few rows of train data\n",
    "train_data.head()"
   ]
  },
  {
   "cell_type": "markdown",
   "metadata": {
    "colab_type": "text",
    "id": "ymsdDaIPIKSX"
   },
   "source": [
    "## Visualization, Modeling, Machine Learning\n",
    "\n",
    "Build a model that can predict hourly demand and identify how different features influence the decision. Please explain the findings effectively to technical and non-technical audiences using comments and visualizations, if appropriate.\n",
    "- **Build an optimized model that effectively solves the business problem.**\n",
    "- **The model will be evaluated on the basis of mean absolute error.**\n",
    "- **Read the test.csv file and prepare features for testing.**"
   ]
  },
  {
   "cell_type": "code",
   "execution_count": 26,
   "metadata": {
    "colab": {},
    "colab_type": "code",
    "id": "Hsxh3SMgIKSY",
    "outputId": "d98d0f00-f33f-407b-df59-a9915bb03fa1"
   },
   "outputs": [
    {
     "data": {
      "text/html": [
       "<div>\n",
       "<style scoped>\n",
       "    .dataframe tbody tr th:only-of-type {\n",
       "        vertical-align: middle;\n",
       "    }\n",
       "\n",
       "    .dataframe tbody tr th {\n",
       "        vertical-align: top;\n",
       "    }\n",
       "\n",
       "    .dataframe thead th {\n",
       "        text-align: right;\n",
       "    }\n",
       "</style>\n",
       "<table border=\"1\" class=\"dataframe\">\n",
       "  <thead>\n",
       "    <tr style=\"text-align: right;\">\n",
       "      <th></th>\n",
       "      <th>id</th>\n",
       "      <th>timestamp</th>\n",
       "      <th>season</th>\n",
       "      <th>holiday</th>\n",
       "      <th>workingday</th>\n",
       "      <th>weather</th>\n",
       "      <th>temp</th>\n",
       "      <th>temp_feel</th>\n",
       "      <th>humidity</th>\n",
       "      <th>windspeed</th>\n",
       "    </tr>\n",
       "  </thead>\n",
       "  <tbody>\n",
       "    <tr>\n",
       "      <th>0</th>\n",
       "      <td>8709</td>\n",
       "      <td>2018-08-05 05:00:00</td>\n",
       "      <td>fall</td>\n",
       "      <td>No</td>\n",
       "      <td>No</td>\n",
       "      <td>Clear or partly cloudy</td>\n",
       "      <td>29.52</td>\n",
       "      <td>34.850</td>\n",
       "      <td>74.0</td>\n",
       "      <td>16.9979</td>\n",
       "    </tr>\n",
       "    <tr>\n",
       "      <th>1</th>\n",
       "      <td>8710</td>\n",
       "      <td>2018-08-05 06:00:00</td>\n",
       "      <td>fall</td>\n",
       "      <td>No</td>\n",
       "      <td>No</td>\n",
       "      <td>Clear or partly cloudy</td>\n",
       "      <td>29.52</td>\n",
       "      <td>34.850</td>\n",
       "      <td>79.0</td>\n",
       "      <td>16.9979</td>\n",
       "    </tr>\n",
       "    <tr>\n",
       "      <th>2</th>\n",
       "      <td>8712</td>\n",
       "      <td>2018-08-05 08:00:00</td>\n",
       "      <td>fall</td>\n",
       "      <td>No</td>\n",
       "      <td>No</td>\n",
       "      <td>Clear or partly cloudy</td>\n",
       "      <td>31.16</td>\n",
       "      <td>36.365</td>\n",
       "      <td>66.0</td>\n",
       "      <td>22.0028</td>\n",
       "    </tr>\n",
       "    <tr>\n",
       "      <th>3</th>\n",
       "      <td>8713</td>\n",
       "      <td>2018-08-05 09:00:00</td>\n",
       "      <td>fall</td>\n",
       "      <td>No</td>\n",
       "      <td>No</td>\n",
       "      <td>Clear or partly cloudy</td>\n",
       "      <td>32.80</td>\n",
       "      <td>38.635</td>\n",
       "      <td>59.0</td>\n",
       "      <td>23.9994</td>\n",
       "    </tr>\n",
       "    <tr>\n",
       "      <th>4</th>\n",
       "      <td>8714</td>\n",
       "      <td>2018-08-05 10:00:00</td>\n",
       "      <td>fall</td>\n",
       "      <td>No</td>\n",
       "      <td>No</td>\n",
       "      <td>Clear or partly cloudy</td>\n",
       "      <td>32.80</td>\n",
       "      <td>38.635</td>\n",
       "      <td>59.0</td>\n",
       "      <td>27.9993</td>\n",
       "    </tr>\n",
       "  </tbody>\n",
       "</table>\n",
       "</div>"
      ],
      "text/plain": [
       "     id            timestamp season holiday workingday  \\\n",
       "0  8709  2018-08-05 05:00:00   fall      No         No   \n",
       "1  8710  2018-08-05 06:00:00   fall      No         No   \n",
       "2  8712  2018-08-05 08:00:00   fall      No         No   \n",
       "3  8713  2018-08-05 09:00:00   fall      No         No   \n",
       "4  8714  2018-08-05 10:00:00   fall      No         No   \n",
       "\n",
       "                  weather   temp  temp_feel  humidity  windspeed  \n",
       "0  Clear or partly cloudy  29.52     34.850      74.0    16.9979  \n",
       "1  Clear or partly cloudy  29.52     34.850      79.0    16.9979  \n",
       "2  Clear or partly cloudy  31.16     36.365      66.0    22.0028  \n",
       "3  Clear or partly cloudy  32.80     38.635      59.0    23.9994  \n",
       "4  Clear or partly cloudy  32.80     38.635      59.0    27.9993  "
      ]
     },
     "execution_count": 26,
     "metadata": {},
     "output_type": "execute_result"
    }
   ],
   "source": [
    "#Loading Test data\n",
    "test = pd.read_csv('test.csv')\n",
    "test.head()"
   ]
  },
  {
   "cell_type": "code",
   "execution_count": 27,
   "metadata": {
    "colab": {},
    "colab_type": "code",
    "id": "73vBzp7lIKSf"
   },
   "outputs": [],
   "source": [
    "# make a copy of test data for data preprocessing\n",
    "test_data = test.copy()"
   ]
  },
  {
   "cell_type": "code",
   "execution_count": 28,
   "metadata": {},
   "outputs": [
    {
     "data": {
      "text/plain": [
       "(1792, 15)"
      ]
     },
     "execution_count": 28,
     "metadata": {},
     "output_type": "execute_result"
    }
   ],
   "source": [
    "# converting string timestamp to datetime and generate features\n",
    "test_data['timestamp'] = pd.to_datetime(test['timestamp'])\n",
    "test_data['day'] = test_data['timestamp'].dt.day\n",
    "test_data['hour'] = test_data['timestamp'].dt.hour\n",
    "test_data['weekday'] = test_data['timestamp'].dt.weekday\n",
    "test_data['month'] = test_data['timestamp'].dt.month\n",
    "test_data['year'] = test_data['timestamp'].dt.year\n",
    "test_data.shape"
   ]
  },
  {
   "cell_type": "code",
   "execution_count": 29,
   "metadata": {
    "colab": {},
    "colab_type": "code",
    "id": "1XiIoLYLIKSj"
   },
   "outputs": [],
   "source": [
    "# dropping timestamp columns from test data\n",
    "test_data = test_data.drop(columns=['timestamp'])"
   ]
  },
  {
   "cell_type": "code",
   "execution_count": 30,
   "metadata": {
    "colab": {},
    "colab_type": "code",
    "id": "7tBCHjd3IKSp"
   },
   "outputs": [
    {
     "name": "stdout",
     "output_type": "stream",
     "text": [
      "Actual values: ['fall', 'winter']\n",
      "Encoded values: [1, 2]\n"
     ]
    }
   ],
   "source": [
    "# encode values in season column\n",
    "c = 'season'\n",
    "for i, season in enumerate(test_data[c].unique().tolist()):\n",
    "    test_data.loc[test_data[c] == season, c] = i+1\n",
    "\n",
    "print(\"Actual values:\", test[c].unique().tolist())\n",
    "print(\"Encoded values:\", test_data[c].unique().tolist())"
   ]
  },
  {
   "cell_type": "code",
   "execution_count": 31,
   "metadata": {
    "colab": {},
    "colab_type": "code",
    "id": "1Vk1EEy9IKSv"
   },
   "outputs": [
    {
     "name": "stdout",
     "output_type": "stream",
     "text": [
      "Actual values: ['No', 'Yes']\n",
      "Encoded values: [0, 1]\n"
     ]
    }
   ],
   "source": [
    "# encode values in holiday column\n",
    "c = 'holiday'\n",
    "for i, item in enumerate(test_data[c].unique().tolist()):\n",
    "    test_data.loc[test_data[c] == item, c] = i\n",
    "\n",
    "print(\"Actual values:\", test[c].unique().tolist())\n",
    "print(\"Encoded values:\", test_data[c].unique().tolist())"
   ]
  },
  {
   "cell_type": "code",
   "execution_count": 32,
   "metadata": {},
   "outputs": [
    {
     "name": "stdout",
     "output_type": "stream",
     "text": [
      "Actual values: ['No', 'Yes']\n",
      "Encoded values: [0, 1]\n"
     ]
    }
   ],
   "source": [
    "# encode values in workingday column\n",
    "c = 'workingday'\n",
    "for i, item in enumerate(test_data[c].unique().tolist()):\n",
    "    test_data.loc[test_data[c] == item, c] = i\n",
    "\n",
    "print(\"Actual values:\", test[c].unique().tolist())\n",
    "print(\"Encoded values:\", test_data[c].unique().tolist())"
   ]
  },
  {
   "cell_type": "code",
   "execution_count": 33,
   "metadata": {
    "colab": {},
    "colab_type": "code",
    "id": "nkQU41WSIKSz"
   },
   "outputs": [
    {
     "name": "stdout",
     "output_type": "stream",
     "text": [
      "Actual values: ['Clear or partly cloudy', 'Light snow or rain', 'Mist']\n",
      "Encoded values: [1, 2, 3]\n"
     ]
    }
   ],
   "source": [
    "# encode values in weather column\n",
    "c = 'weather'\n",
    "for i, item in enumerate(test_data[c].unique().tolist()):\n",
    "    test_data.loc[test_data[c] == item, c] = i+1\n",
    "\n",
    "print(\"Actual values:\", test[c].unique().tolist())\n",
    "print(\"Encoded values:\", test_data[c].unique().tolist())"
   ]
  },
  {
   "cell_type": "code",
   "execution_count": 34,
   "metadata": {},
   "outputs": [
    {
     "data": {
      "text/plain": [
       "False"
      ]
     },
     "execution_count": 34,
     "metadata": {},
     "output_type": "execute_result"
    }
   ],
   "source": [
    "# check if test data has any missing values\n",
    "test_data.isnull().values.any()"
   ]
  },
  {
   "cell_type": "code",
   "execution_count": 35,
   "metadata": {},
   "outputs": [
    {
     "name": "stdout",
     "output_type": "stream",
     "text": [
      "242\n"
     ]
    }
   ],
   "source": [
    "# count total points for which windspeed = 0\n",
    "print(test_data[test_data['windspeed'] == 0].shape[0])\n",
    "\n",
    "# use regression to impute these values\n",
    "data_wind_zero = test_data[test_data['windspeed'] == 0]\n",
    "data_wind_not_zero = test_data[test_data['windspeed'] != 0]\n",
    "rf_model = RandomForestRegressor()\n",
    "cols = [\"season\",\"weather\",\"humidity\", \"temp\", \"temp_feel\", \"month\",\"year\"]\n",
    "rf_model.fit(data_wind_not_zero[cols], data_wind_not_zero['windspeed'])\n",
    "vals = rf_model.predict(data_wind_zero[cols])\n",
    "data_wind_zero['windspeed'] = vals\n",
    "test_data = data_wind_not_zero.append(data_wind_zero)\n",
    "test_data.reset_index(inplace=True)\n",
    "test_data.drop('index',inplace=True,axis=1)"
   ]
  },
  {
   "cell_type": "code",
   "execution_count": 36,
   "metadata": {
    "scrolled": true
   },
   "outputs": [
    {
     "data": {
      "text/html": [
       "<div>\n",
       "<style scoped>\n",
       "    .dataframe tbody tr th:only-of-type {\n",
       "        vertical-align: middle;\n",
       "    }\n",
       "\n",
       "    .dataframe tbody tr th {\n",
       "        vertical-align: top;\n",
       "    }\n",
       "\n",
       "    .dataframe thead th {\n",
       "        text-align: right;\n",
       "    }\n",
       "</style>\n",
       "<table border=\"1\" class=\"dataframe\">\n",
       "  <thead>\n",
       "    <tr style=\"text-align: right;\">\n",
       "      <th></th>\n",
       "      <th>id</th>\n",
       "      <th>season</th>\n",
       "      <th>holiday</th>\n",
       "      <th>workingday</th>\n",
       "      <th>weather</th>\n",
       "      <th>temp</th>\n",
       "      <th>temp_feel</th>\n",
       "      <th>humidity</th>\n",
       "      <th>windspeed</th>\n",
       "      <th>day</th>\n",
       "      <th>hour</th>\n",
       "      <th>weekday</th>\n",
       "      <th>month</th>\n",
       "      <th>year</th>\n",
       "    </tr>\n",
       "  </thead>\n",
       "  <tbody>\n",
       "    <tr>\n",
       "      <th>0</th>\n",
       "      <td>8709</td>\n",
       "      <td>1</td>\n",
       "      <td>0</td>\n",
       "      <td>0</td>\n",
       "      <td>1</td>\n",
       "      <td>29.52</td>\n",
       "      <td>34.850</td>\n",
       "      <td>74.0</td>\n",
       "      <td>16.9979</td>\n",
       "      <td>5</td>\n",
       "      <td>5</td>\n",
       "      <td>6</td>\n",
       "      <td>8</td>\n",
       "      <td>2018</td>\n",
       "    </tr>\n",
       "    <tr>\n",
       "      <th>1</th>\n",
       "      <td>8710</td>\n",
       "      <td>1</td>\n",
       "      <td>0</td>\n",
       "      <td>0</td>\n",
       "      <td>1</td>\n",
       "      <td>29.52</td>\n",
       "      <td>34.850</td>\n",
       "      <td>79.0</td>\n",
       "      <td>16.9979</td>\n",
       "      <td>5</td>\n",
       "      <td>6</td>\n",
       "      <td>6</td>\n",
       "      <td>8</td>\n",
       "      <td>2018</td>\n",
       "    </tr>\n",
       "    <tr>\n",
       "      <th>2</th>\n",
       "      <td>8712</td>\n",
       "      <td>1</td>\n",
       "      <td>0</td>\n",
       "      <td>0</td>\n",
       "      <td>1</td>\n",
       "      <td>31.16</td>\n",
       "      <td>36.365</td>\n",
       "      <td>66.0</td>\n",
       "      <td>22.0028</td>\n",
       "      <td>5</td>\n",
       "      <td>8</td>\n",
       "      <td>6</td>\n",
       "      <td>8</td>\n",
       "      <td>2018</td>\n",
       "    </tr>\n",
       "    <tr>\n",
       "      <th>3</th>\n",
       "      <td>8713</td>\n",
       "      <td>1</td>\n",
       "      <td>0</td>\n",
       "      <td>0</td>\n",
       "      <td>1</td>\n",
       "      <td>32.80</td>\n",
       "      <td>38.635</td>\n",
       "      <td>59.0</td>\n",
       "      <td>23.9994</td>\n",
       "      <td>5</td>\n",
       "      <td>9</td>\n",
       "      <td>6</td>\n",
       "      <td>8</td>\n",
       "      <td>2018</td>\n",
       "    </tr>\n",
       "    <tr>\n",
       "      <th>4</th>\n",
       "      <td>8714</td>\n",
       "      <td>1</td>\n",
       "      <td>0</td>\n",
       "      <td>0</td>\n",
       "      <td>1</td>\n",
       "      <td>32.80</td>\n",
       "      <td>38.635</td>\n",
       "      <td>59.0</td>\n",
       "      <td>27.9993</td>\n",
       "      <td>5</td>\n",
       "      <td>10</td>\n",
       "      <td>6</td>\n",
       "      <td>8</td>\n",
       "      <td>2018</td>\n",
       "    </tr>\n",
       "  </tbody>\n",
       "</table>\n",
       "</div>"
      ],
      "text/plain": [
       "     id  season  holiday  workingday  weather   temp  temp_feel  humidity  \\\n",
       "0  8709       1        0           0        1  29.52     34.850      74.0   \n",
       "1  8710       1        0           0        1  29.52     34.850      79.0   \n",
       "2  8712       1        0           0        1  31.16     36.365      66.0   \n",
       "3  8713       1        0           0        1  32.80     38.635      59.0   \n",
       "4  8714       1        0           0        1  32.80     38.635      59.0   \n",
       "\n",
       "   windspeed  day  hour  weekday  month  year  \n",
       "0    16.9979    5     5        6      8  2018  \n",
       "1    16.9979    5     6        6      8  2018  \n",
       "2    22.0028    5     8        6      8  2018  \n",
       "3    23.9994    5     9        6      8  2018  \n",
       "4    27.9993    5    10        6      8  2018  "
      ]
     },
     "execution_count": 36,
     "metadata": {},
     "output_type": "execute_result"
    }
   ],
   "source": [
    "# print a couple of rows of test data\n",
    "test_data.head()"
   ]
  },
  {
   "cell_type": "markdown",
   "metadata": {},
   "source": [
    "### Visualizations"
   ]
  },
  {
   "cell_type": "markdown",
   "metadata": {},
   "source": [
    "`The joint plots below show the relationship between continous variables: temp, temp_feel, humidity and windspeed. Temp and temp_feel seem to have a direct relationship with demand. When temp increases, demand also increases whereas humidity has an inverse relationship i.e. when humidity increases, demand decreases.` "
   ]
  },
  {
   "cell_type": "code",
   "execution_count": 37,
   "metadata": {
    "scrolled": false
   },
   "outputs": [
    {
     "data": {
      "image/png": "[encoded data removed]",
      "text/plain": [
       "<Figure size 360x360 with 3 Axes>"
      ]
     },
     "metadata": {
      "needs_background": "light"
     },
     "output_type": "display_data"
    },
    {
     "data": {
      "image/png": "[encoded data removed]",
      "text/plain": [
       "<Figure size 360x360 with 3 Axes>"
      ]
     },
     "metadata": {
      "needs_background": "light"
     },
     "output_type": "display_data"
    },
    {
     "data": {
      "image/png": "[encoded data removed]",
      "text/plain": [
       "<Figure size 360x360 with 3 Axes>"
      ]
     },
     "metadata": {
      "needs_background": "light"
     },
     "output_type": "display_data"
    },
    {
     "data": {
      "image/png": "[encoded data removed]",
      "text/plain": [
       "<Figure size 360x360 with 3 Axes>"
      ]
     },
     "metadata": {
      "needs_background": "light"
     },
     "output_type": "display_data"
    }
   ],
   "source": [
    "# joint plots for numeric variables\n",
    "cols = [\"windspeed\", \"humidity\", \"temp\", \"temp_feel\"]\n",
    "for c in cols:\n",
    "    sns.jointplot(x=c, y=\"demand\", data=train_data, kind = 'reg', height = 5)\n",
    "plt.show()"
   ]
  },
  {
   "cell_type": "markdown",
   "metadata": {},
   "source": [
    "`The bar plots show the relationship between discrete variables: season, holiday, weather, hour, day and month with demand. We can see the following trends:`\n",
    "\n",
    "1. Demand is low in spring season (0) and increases in summer, fall and winter. See first plot.\n",
    "2. Demand is slightly less on holidays as compared to when it's not a holiday other days. See second plot.\n",
    "3. Demand is highest when weather is clear or partly cloudy(0) and it decreases as weather conditions worsen (rain, snow, etc). See third plot.\n",
    "4. Demand is high at morning (8 am) and evening time (5 to 6 pm). See fourth plot.\n",
    "5. Can't see a clear trend for any given day of week.  See fifth plot.\n",
    "6. Demand is low at the start of the year and eventually increases. Bike rental demand is very high in summer months."
   ]
  },
  {
   "cell_type": "code",
   "execution_count": 38,
   "metadata": {
    "scrolled": false
   },
   "outputs": [
    {
     "data": {
      "image/png": "[encoded data removed]",
      "text/plain": [
       "<Figure size 1152x864 with 6 Axes>"
      ]
     },
     "metadata": {
      "needs_background": "light"
     },
     "output_type": "display_data"
    }
   ],
   "source": [
    "# bar plots for categorical features\n",
    "cols = ['season', 'holiday', 'weather', 'hour', 'weekday', 'month']\n",
    "fig, axes = plt.subplots(3, 2, figsize=(16, 12))\n",
    "for i, c in enumerate(cols):\n",
    "    ax = axes.ravel()[i]\n",
    "    sns.barplot(x=c, y=\"demand\", ax=ax, data=train_data)"
   ]
  },
  {
   "cell_type": "markdown",
   "metadata": {},
   "source": [
    "`The plots below represent the distribution of target variable: demand. It has a left skewed distribution.` "
   ]
  },
  {
   "cell_type": "code",
   "execution_count": 39,
   "metadata": {
    "scrolled": false
   },
   "outputs": [
    {
     "data": {
      "image/png": "[encoded data removed]",
      "text/plain": [
       "<Figure size 432x288 with 1 Axes>"
      ]
     },
     "metadata": {
      "needs_background": "light"
     },
     "output_type": "display_data"
    }
   ],
   "source": [
    "# plot distribution of demand variables\n",
    "sns.distplot(train_data['demand'])\n",
    "plt.show()"
   ]
  },
  {
   "cell_type": "markdown",
   "metadata": {},
   "source": [
    "`The box plots below are drawn for time related features: hour, day, month, season. The hour vs. demand plot shows the variance in demand with respect to hours of day. We can see that 7am, 8am and 17, 18, 19 (5, 6, 7 pm) have highest variance(simply put: demand is more). Similar trend can be seen for month vs. demand plot where variance is high for months 5 to 11 (June to December). The plots also show that there are quite a few outliers which can affect the performance of our model and should be dealt with.`"
   ]
  },
  {
   "cell_type": "code",
   "execution_count": 40,
   "metadata": {
    "scrolled": false
   },
   "outputs": [
    {
     "data": {
      "image/png": "[encoded data removed]",
      "text/plain": [
       "<Figure size 1152x864 with 4 Axes>"
      ]
     },
     "metadata": {
      "needs_background": "light"
     },
     "output_type": "display_data"
    }
   ],
   "source": [
    "# plot box plots to see outliers\n",
    "fig, axes = plt.subplots(2, 2, figsize=(16, 12))\n",
    "cols = ['hour', 'day', 'month', 'season']\n",
    "for i, c in enumerate(cols):\n",
    "    ax = axes.ravel()[i]\n",
    "    sns.boxplot(x=c, y='demand', ax=ax, data=train_data)"
   ]
  },
  {
   "cell_type": "code",
   "execution_count": 41,
   "metadata": {},
   "outputs": [],
   "source": [
    "# removing outliers from train data\n",
    "Q1 = train_data.quantile(0.25)\n",
    "Q3 = train_data.quantile(0.75)\n",
    "IQR = Q3 - Q1\n",
    "\n",
    "train_data =train_data[~((train_data < (Q1 - 1.5 * IQR)) |(train_data > (Q3 + 1.5 * IQR))).any(axis=1)]"
   ]
  },
  {
   "cell_type": "markdown",
   "metadata": {},
   "source": [
    "`The correlation plot below shows the correlation between variables. We can see that season is correlated with month and year. Temp is highly correlated with temp_feel.`"
   ]
  },
  {
   "cell_type": "code",
   "execution_count": 42,
   "metadata": {
    "scrolled": false
   },
   "outputs": [
    {
     "data": {
      "text/plain": [
       "<matplotlib.axes._subplots.AxesSubplot at 0x1a2338d6d8>"
      ]
     },
     "execution_count": 42,
     "metadata": {},
     "output_type": "execute_result"
    },
    {
     "data": {
      "image/png": "[encoded data removed]",
      "text/plain": [
       "<Figure size 864x720 with 2 Axes>"
      ]
     },
     "metadata": {
      "needs_background": "light"
     },
     "output_type": "display_data"
    }
   ],
   "source": [
    "# Correlation heatmap\n",
    "corr = train_data.corr() \n",
    "plt.figure(figsize=(12, 10))\n",
    "\n",
    "sns.heatmap(corr[(corr >= 0.5) | (corr <= -0.4)], \n",
    "            cmap='viridis', vmax=1.0, vmin=-1.0, linewidths=0.1,\n",
    "            annot=True, annot_kws={\"size\": 8}, square=True)"
   ]
  },
  {
   "cell_type": "markdown",
   "metadata": {
    "colab_type": "text",
    "id": "MK_rdXETIKS4"
   },
   "source": [
    "\n",
    "\n",
    "**Identify the most important features of the model for management.**\n",
    "\n",
    "> #### Task:\n",
    "- **Visualize the top 20 features and their feature importance.**\n"
   ]
  },
  {
   "cell_type": "code",
   "execution_count": 43,
   "metadata": {},
   "outputs": [],
   "source": [
    "columns = ['temp', 'temp_feel', 'humidity', 'windspeed']\n",
    "scalar = StandardScaler()\n",
    "scalar.fit(train_data[columns])\n",
    "train_data[columns] = scalar.transform(train_data[columns])"
   ]
  },
  {
   "cell_type": "code",
   "execution_count": 44,
   "metadata": {
    "colab": {},
    "colab_type": "code",
    "id": "jabG4TJwIKS_"
   },
   "outputs": [
    {
     "name": "stdout",
     "output_type": "stream",
     "text": [
      "Training Set Dimensions: (6495, 13)\n",
      "Validation Set Dimensions: (1624, 13)\n"
     ]
    }
   ],
   "source": [
    "y = train_data['demand']\n",
    "X = train_data.drop(columns=['demand', 'id'])\n",
    "X_train, X_test, y_train, y_test = train_test_split(X, y, test_size=0.2)\n",
    "print(\"Training Set Dimensions:\", X_train.shape)\n",
    "print(\"Validation Set Dimensions:\", X_test.shape)"
   ]
  },
  {
   "cell_type": "code",
   "execution_count": 45,
   "metadata": {},
   "outputs": [
    {
     "data": {
      "text/plain": [
       "RandomForestRegressor(bootstrap=True, criterion='mse', max_depth=8,\n",
       "                      max_features='auto', max_leaf_nodes=None,\n",
       "                      min_impurity_decrease=0.0, min_impurity_split=None,\n",
       "                      min_samples_leaf=1, min_samples_split=2,\n",
       "                      min_weight_fraction_leaf=0.0, n_estimators=1000,\n",
       "                      n_jobs=None, oob_score=False, random_state=None,\n",
       "                      verbose=0, warm_start=False)"
      ]
     },
     "execution_count": 45,
     "metadata": {},
     "output_type": "execute_result"
    }
   ],
   "source": [
    "# train random forest regression model\n",
    "randomf = RandomForestRegressor(n_estimators=1000, max_depth=8)\n",
    "randomf.fit(X_train, y_train)"
   ]
  },
  {
   "cell_type": "code",
   "execution_count": 46,
   "metadata": {},
   "outputs": [
    {
     "name": "stdout",
     "output_type": "stream",
     "text": [
      "Mean Absolute Error for Training Set: 0.2689460263298527\n",
      "Mean Absolute Error for Validation Set: 0.31460820694394837\n"
     ]
    }
   ],
   "source": [
    "# print MAE score for tran and validation sets\n",
    "print('Mean Absolute Error for Training Set:', mean_absolute_error(y_train, randomf.predict(X_train)))\n",
    "print('Mean Absolute Error for Validation Set:', mean_absolute_error(y_test, randomf.predict(X_test)))"
   ]
  },
  {
   "cell_type": "code",
   "execution_count": 47,
   "metadata": {
    "scrolled": false
   },
   "outputs": [
    {
     "name": "stdout",
     "output_type": "stream",
     "text": [
      "feature: season = 0.003903761611789702\n",
      "feature: holiday = 0.0\n",
      "feature: workingday = 0.04854465543022179\n",
      "feature: weather = 0.009916024414859283\n",
      "feature: temp = 0.08261335056079072\n",
      "feature: temp_feel = 0.012891701672791826\n",
      "feature: humidity = 0.021667756506347943\n",
      "feature: windspeed = 0.002746065639465219\n",
      "feature: day = 0.0033183770524740316\n",
      "feature: hour = 0.7691548231316904\n",
      "feature: weekday = 0.005721992849055188\n",
      "feature: month = 0.017406377077767675\n",
      "feature: year = 0.022115114052746247\n"
     ]
    },
    {
     "data": {
      "image/png": "[encoded data removed]",
      "text/plain": [
       "<Figure size 432x288 with 1 Axes>"
      ]
     },
     "metadata": {
      "needs_background": "light"
     },
     "output_type": "display_data"
    }
   ],
   "source": [
    "# important features for random forest regression\n",
    "for name, importance in zip(X.columns, randomf.feature_importances_):\n",
    "    print('feature:', name, \"=\", importance)\n",
    "importances = randomf.feature_importances_\n",
    "indices = np.argsort(importances)\n",
    "features = X.columns\n",
    "plt.title('Feature Importances')\n",
    "plt.barh(range(len(indices)), importances[indices], color='b', align='center')\n",
    "plt.yticks(range(len(indices)), [features[i] for i in indices])\n",
    "plt.xlabel('Relative Importance')\n",
    "plt.show()"
   ]
  },
  {
   "cell_type": "code",
   "execution_count": 48,
   "metadata": {},
   "outputs": [
    {
     "data": {
      "text/plain": [
       "XGBRegressor(base_score=0.5, booster='gbtree', colsample_bylevel=1,\n",
       "             colsample_bynode=1, colsample_bytree=1, gamma=0,\n",
       "             importance_type='gain', learning_rate=0.1, max_delta_step=0,\n",
       "             max_depth=4, min_child_weight=1, missing=None, n_estimators=500,\n",
       "             n_jobs=1, nthread=None, objective='reg:squarederror',\n",
       "             random_state=0, reg_alpha=0, reg_lambda=1, scale_pos_weight=1,\n",
       "             seed=None, silent=None, subsample=1, verbosity=1)"
      ]
     },
     "execution_count": 48,
     "metadata": {},
     "output_type": "execute_result"
    }
   ],
   "source": [
    "# Train XGBoost Regression\n",
    "xgbr = XGBRegressor(objective='reg:squarederror', n_estimators=500, max_depth=4)\n",
    "xgbr.fit(X_train, y_train)"
   ]
  },
  {
   "cell_type": "code",
   "execution_count": 49,
   "metadata": {},
   "outputs": [
    {
     "name": "stdout",
     "output_type": "stream",
     "text": [
      "Mean Absolute Error for Training Set: 0.14383428459933906\n",
      "Mean Absolute Error for Validation Set: 0.1944593292558618\n"
     ]
    }
   ],
   "source": [
    "# print MAE score for tran and validation sets\n",
    "print('Mean Absolute Error for Training Set:', mean_absolute_error(y_train, xgbr.predict(X_train)))\n",
    "print('Mean Absolute Error for Validation Set:', mean_absolute_error(y_test, xgbr.predict(X_test)))"
   ]
  },
  {
   "cell_type": "markdown",
   "metadata": {
    "colab_type": "text",
    "id": "UFogmgYZIKTE"
   },
   "source": [
    "> #### Task:\n",
    "- **Submit the predictions on the test dataset using the optimized model** <br/>\n",
    "    For each record in the test set (`test.csv`), predict the value of the `demand` variable. Submit a CSV file with a header row and one row per test entry.\n",
    "    \n",
    "The file (`submissions.csv`) should have exactly 2 columns:\n",
    "   - **id**\n",
    "   - **demand**"
   ]
  },
  {
   "cell_type": "markdown",
   "metadata": {},
   "source": [
    "### Train model with training and validation sets combined and make predictions on test set"
   ]
  },
  {
   "cell_type": "code",
   "execution_count": 50,
   "metadata": {
    "colab": {},
    "colab_type": "code",
    "id": "OaxN7BjwIKTL"
   },
   "outputs": [],
   "source": [
    "# store ids and drop column\n",
    "ids = test_data['id']\n",
    "test_data = test_data.drop(columns=['id'])"
   ]
  },
  {
   "cell_type": "code",
   "execution_count": 51,
   "metadata": {},
   "outputs": [],
   "source": [
    "# make predictions on test data\n",
    "prediction = randomf.predict(test_data)"
   ]
  },
  {
   "cell_type": "code",
   "execution_count": 53,
   "metadata": {
    "colab": {},
    "colab_type": "code",
    "id": "nBRVPrYbIKTQ"
   },
   "outputs": [],
   "source": [
    "# Create a dataframe of ids and demand predictions\n",
    "df = pd.DataFrame({'id':ids, 'demand': prediction})\n",
    "\n",
    "# Submission\n",
    "df.to_csv('submissions.csv',index=False)"
   ]
  },
  {
   "cell_type": "markdown",
   "metadata": {
    "colab_type": "text",
    "id": "H_pB8zTcIKTW"
   },
   "source": [
    "---"
   ]
  }
 ],
 "metadata": {
  "colab": {
   "collapsed_sections": [],
   "name": "Questions.ipynb",
   "provenance": [],
   "version": "0.3.2"
  },
  "kernelspec": {
   "display_name": "Python 3",
   "language": "python",
   "name": "python3"
  },
  "language_info": {
   "codemirror_mode": {
    "name": "ipython",
    "version": 3
   },
   "file_extension": ".py",
   "mimetype": "text/x-python",
   "name": "python",
   "nbconvert_exporter": "python",
   "pygments_lexer": "ipython3",
   "version": "3.7.3"
  },
  "toc": {
   "base_numbering": 1,
   "nav_menu": {},
   "number_sections": true,
   "sideBar": true,
   "skip_h1_title": false,
   "title_cell": "Table of Contents",
   "title_sidebar": "Contents",
   "toc_cell": false,
   "toc_position": {},
   "toc_section_display": true,
   "toc_window_display": false
  },
  "pycharm": {
   "stem_cell": {
    "cell_type": "raw",
    "source": [],
    "metadata": {
     "collapsed": false
    }
   }
  }
 },
 "nbformat": 4,
 "nbformat_minor": 1
}